{
 "cells": [
  {
   "cell_type": "code",
   "execution_count": 4,
   "metadata": {},
   "outputs": [],
   "source": [
    "import numpy as np \n",
    "import pandas as pd \n",
    "import matplotlib.pyplot as plt \n",
    "import os\n",
    "import cv2\n",
    "\n",
    "%matplotlib inline "
   ]
  },
  {
   "cell_type": "code",
   "execution_count": 2,
   "metadata": {},
   "outputs": [
    {
     "name": "stdout",
     "output_type": "stream",
     "text": [
      "<class 'pandas.core.frame.DataFrame'>\n",
      "RangeIndex: 811457 entries, 0 to 811456\n",
      "Data columns (total 6 columns):\n",
      "waferMap          811457 non-null object\n",
      "dieSize           811457 non-null float64\n",
      "lotName           811457 non-null object\n",
      "waferIndex        811457 non-null float64\n",
      "trianTestLabel    811457 non-null object\n",
      "failureType       811457 non-null object\n",
      "dtypes: float64(2), object(4)\n",
      "memory usage: 37.1+ MB\n"
     ]
    }
   ],
   "source": [
    "df_all = pd.read_pickle(os.path.join(os.getcwd(), 'input\\LSWMD.pkl'))\n",
    "df_all.info()"
   ]
  },
  {
   "cell_type": "code",
   "execution_count": 3,
   "metadata": {},
   "outputs": [
    {
     "name": "stderr",
     "output_type": "stream",
     "text": [
      "C:\\Users\\user\\Anaconda3\\envs\\neuralnets\\lib\\site-packages\\pandas\\core\\internals.py:5152: FutureWarning: elementwise comparison failed; returning scalar instead, but in the future will perform elementwise comparison\n",
      "  result = op(a, b)\n",
      "C:\\Users\\user\\Anaconda3\\envs\\neuralnets\\lib\\site-packages\\pandas\\core\\missing.py:51: FutureWarning: elementwise comparison failed; returning scalar instead, but in the future will perform elementwise comparison\n",
      "  mask = arr == x\n"
     ]
    }
   ],
   "source": [
    "df_all['failureNum'] = df_all.failureType\n",
    "df_all['trainTestNum'] = df_all.trianTestLabel\n",
    "\n",
    "mapping_type={'Center':0,'Donut':1,'Edge-Loc':2,\n",
    "              'Edge-Ring':3,'Loc':4,'Random':5,\n",
    "              'Scratch':6,'Near-full':7,'none':8}\n",
    "\n",
    "mapping_traintest = {'Training':0, 'Test':1}\n",
    "\n",
    "df_all = df_all.replace({'failureNum':mapping_type, 'trainTestNum':mapping_traintest})"
   ]
  },
  {
   "cell_type": "code",
   "execution_count": 4,
   "metadata": {},
   "outputs": [
    {
     "data": {
      "text/plain": [
       "((811457, 9), (25519, 9), (147431, 8))"
      ]
     },
     "execution_count": 4,
     "metadata": {},
     "output_type": "execute_result"
    }
   ],
   "source": [
    "df_withlabel = df_all[(df_all['failureNum'] >= 0) & df_all['failureNum'] <=8]\n",
    "df_withlabel = df_withlabel.reset_index()\n",
    "\n",
    "df_withpattern = df_all[(df_all['failureNum'] >= 0) & (df_all['failureNum'] <= 7)]\n",
    "df_withpattern = df_withpattern.reset_index()\n",
    "\n",
    "df_nopattern = df_all[(df_all['failureNum'] == 8)]\n",
    "\n",
    "df_withlabel.shape, df_withpattern.shape, df_nopattern.shape"
   ]
  },
  {
   "cell_type": "code",
   "execution_count": 2,
   "metadata": {},
   "outputs": [
    {
     "ename": "NameError",
     "evalue": "name 'df_withpattern' is not defined",
     "output_type": "error",
     "traceback": [
      "\u001b[1;31m---------------------------------------------------------------------------\u001b[0m",
      "\u001b[1;31mNameError\u001b[0m                                 Traceback (most recent call last)",
      "\u001b[1;32m<ipython-input-2-ef3689db0e7a>\u001b[0m in \u001b[0;36m<module>\u001b[1;34m\u001b[0m\n\u001b[1;32m----> 1\u001b[1;33m \u001b[0mtest\u001b[0m \u001b[1;33m=\u001b[0m \u001b[0mcv2\u001b[0m\u001b[1;33m.\u001b[0m\u001b[0mresize\u001b[0m\u001b[1;33m(\u001b[0m\u001b[0mdf_withpattern\u001b[0m\u001b[1;33m.\u001b[0m\u001b[0mwaferMap\u001b[0m\u001b[1;33m[\u001b[0m\u001b[1;36m10\u001b[0m\u001b[1;33m]\u001b[0m\u001b[1;33m,\u001b[0m \u001b[0mdsize\u001b[0m\u001b[1;33m=\u001b[0m\u001b[1;33m(\u001b[0m\u001b[1;36m92\u001b[0m\u001b[1;33m,\u001b[0m\u001b[1;36m92\u001b[0m\u001b[1;33m)\u001b[0m\u001b[1;33m,\u001b[0m \u001b[0minterpolation\u001b[0m\u001b[1;33m=\u001b[0m\u001b[0mcv2\u001b[0m\u001b[1;33m.\u001b[0m\u001b[0mINTER_NEAREST\u001b[0m\u001b[1;33m)\u001b[0m\u001b[1;33m\u001b[0m\u001b[1;33m\u001b[0m\u001b[0m\n\u001b[0m\u001b[0;32m      2\u001b[0m \u001b[1;33m\u001b[0m\u001b[0m\n\u001b[0;32m      3\u001b[0m \u001b[1;31m## 2 - паттерн\u001b[0m\u001b[1;33m\u001b[0m\u001b[1;33m\u001b[0m\u001b[1;33m\u001b[0m\u001b[0m\n\u001b[0;32m      4\u001b[0m \u001b[1;31m## 1 - фон\u001b[0m\u001b[1;33m\u001b[0m\u001b[1;33m\u001b[0m\u001b[1;33m\u001b[0m\u001b[0m\n\u001b[0;32m      5\u001b[0m \u001b[1;31m## 0 - область, где нет ничего\u001b[0m\u001b[1;33m\u001b[0m\u001b[1;33m\u001b[0m\u001b[1;33m\u001b[0m\u001b[0m\n",
      "\u001b[1;31mNameError\u001b[0m: name 'df_withpattern' is not defined"
     ]
    }
   ],
   "source": [
    "test = cv2.resize(df_withpattern.waferMap[10], dsize=(92,92), interpolation=cv2.INTER_NEAREST) \n",
    "\n",
    "## 2 - паттерн\n",
    "## 1 - фон\n",
    "## 0 - область, где нет ничего\n",
    "test[test == 2] = 1"
   ]
  },
  {
   "cell_type": "code",
   "execution_count": 6,
   "metadata": {},
   "outputs": [
    {
     "data": {
      "text/plain": [
       "<matplotlib.image.AxesImage at 0x1b93dabbf60>"
      ]
     },
     "execution_count": 6,
     "metadata": {},
     "output_type": "execute_result"
    },
    {
     "data": {
      "image/png": "[encoded data removed]",
      "text/plain": [
       "<Figure size 432x288 with 1 Axes>"
      ]
     },
     "metadata": {
      "needs_background": "light"
     },
     "output_type": "display_data"
    }
   ],
   "source": [
    "plt.imshow(test)"
   ]
  },
  {
   "cell_type": "code",
   "execution_count": 771,
   "metadata": {},
   "outputs": [],
   "source": [
    "df_withpattern.to_pickle('test_wafer_map.pkl')"
   ]
  },
  {
   "cell_type": "code",
   "execution_count": 772,
   "metadata": {},
   "outputs": [],
   "source": [
    "df_withpattern.iloc[0].to_pickle('test_wafer_map.pkl')"
   ]
  },
  {
   "cell_type": "code",
   "execution_count": 5,
   "metadata": {},
   "outputs": [
    {
     "data": {
      "text/plain": [
       "<matplotlib.image.AxesImage at 0x28281cd7828>"
      ]
     },
     "execution_count": 5,
     "metadata": {},
     "output_type": "execute_result"
    },
    {
     "data": {
      "image/png": "[encoded data removed]",
      "text/plain": [
       "<Figure size 432x288 with 1 Axes>"
      ]
     },
     "metadata": {
      "needs_background": "light"
     },
     "output_type": "display_data"
    }
   ],
   "source": [
    "wafer_map = pd.read_pickle('test_wafer_map.pkl')\n",
    "test = cv2.resize(wafer_map.waferMap, dsize=(92,92), interpolation=cv2.INTER_NEAREST) \n",
    "\n",
    "## 2 - паттерн\n",
    "## 1 - фон\n",
    "## 0 - область, где нет ничего\n",
    "test[test == 2] = 1\n",
    "plt.imshow(test)"
   ]
  },
  {
   "cell_type": "code",
   "execution_count": 4,
   "metadata": {},
   "outputs": [],
   "source": [
    "## индкы поля для синтеза кривых\n",
    "i, j = np.where(test==1)"
   ]
  },
  {
   "cell_type": "markdown",
   "metadata": {},
   "source": [
    "## Реализация кривых Безье "
   ]
  },
  {
   "cell_type": "code",
   "execution_count": 5,
   "metadata": {},
   "outputs": [],
   "source": [
    "def make_bezier(xys):\n",
    "    # xys should be a sequence of 2-tuples (Bezier control points)\n",
    "    n = len(xys)\n",
    "    combinations = pascal_row(n-1)\n",
    "    def bezier(ts):\n",
    "        # This uses the generalized formula for bezier curves\n",
    "        # http://en.wikipedia.org/wiki/B%C3%A9zier_curve#Generalization\n",
    "        result = []\n",
    "        for t in ts:\n",
    "            tpowers = (t**i for i in range(n))\n",
    "            upowers = reversed([(1-t)**i for i in range(n)])\n",
    "            coefs = [c*a*b for c, a, b in zip(combinations, tpowers, upowers)]\n",
    "            result.append(\n",
    "                tuple(sum([coef*p for coef, p in zip(coefs, ps)]) for ps in zip(*xys)))\n",
    "        return result\n",
    "    return bezier\n",
    "\n",
    "def pascal_row(n):\n",
    "    # This returns the nth row of Pascal Triangle\n",
    "    result = [1]\n",
    "    x, numerator = 1, n\n",
    "    for denominator in range(1, n//2+1):\n",
    "        # print(numerator,denominator,x)\n",
    "        x *= numerator\n",
    "        x /= denominator\n",
    "        result.append(x)\n",
    "        numerator -= 1\n",
    "    if n&1 == 0:\n",
    "        # n is even\n",
    "        result.extend(reversed(result[:-1]))\n",
    "    else:\n",
    "        result.extend(reversed(result)) \n",
    "    return result"
   ]
  },
  {
   "cell_type": "code",
   "execution_count": 33,
   "metadata": {
    "scrolled": true
   },
   "outputs": [
    {
     "data": {
      "text/plain": [
       "<matplotlib.image.AxesImage at 0x7f2c2488a8d0>"
      ]
     },
     "execution_count": 33,
     "metadata": {},
     "output_type": "execute_result"
    },
    {
     "data": {
      "image/png": "[encoded data removed]",
      "text/plain": [
       "<Figure size 432x288 with 1 Axes>"
      ]
     },
     "metadata": {},
     "output_type": "display_data"
    }
   ],
   "source": [
    "test = cv2.resize(wafer_map.waferMap, dsize=(92,92), interpolation=cv2.INTER_NEAREST) \n",
    "## 2 - паттерн\n",
    "## 1 - фон\n",
    "## 0 - область, где нет ничего\n",
    "test[test == 2] = 1\n",
    "\n",
    "ts = [t/100.0 for t in range(0, 101)]\n",
    "xys = [(33, 33), (44, 54), (60, 66), (44,60)]\n",
    "bezier = make_bezier(xys)\n",
    "points = bezier(ts)\n",
    "\n",
    "for idx in points:\n",
    "    i, j = idx\n",
    "    i = round(i)\n",
    "    j = round(j)\n",
    "    test[i, j] = 5\n",
    "    \n",
    "import cv2\n",
    "## сверткой расширим\n",
    "kernel = np.ones((3,3), np.uint8)\n",
    "kernel = np.array([[0, 1, 0], [1, 1, 1], [0, 0, 0]], dtype=np.uint8)\n",
    "test = cv2.dilate(test,kernel,iterations = 1)\n",
    "\n",
    "## внесем шум\n",
    "noise_img = test.copy()\n",
    "mask = np.random.randint(0, 2, size=noise_img.shape).astype(np.bool)\n",
    "mask[noise_img == 0] = False\n",
    "r = np.random.poisson(lam=0.5, size=noise_img.shape)\n",
    "# нормировка на шумы\n",
    "# r = np.around(r//np.max(r))\n",
    "r[r==0] = 1\n",
    "noise_img[mask] = r[mask]\n",
    "    \n",
    "plt.imshow(noise_img, cmap='inferno')"
   ]
  },
  {
   "cell_type": "markdown",
   "metadata": {},
   "source": [
    "### Тест кольца"
   ]
  },
  {
   "cell_type": "code",
   "execution_count": 21,
   "metadata": {},
   "outputs": [
    {
     "data": {
      "image/png": "[encoded data removed]",
      "text/plain": [
       "<Figure size 432x288 with 1 Axes>"
      ]
     },
     "metadata": {},
     "output_type": "display_data"
    }
   ],
   "source": [
    "## параметры кольца\n",
    "phi = np.linspace(0, np.pi*2, 200)\n",
    "r = np.linspace(7, 8, 200)\n",
    "xc = 44\n",
    "yc = 44\n",
    "\n",
    "## синтез сетки\n",
    "R, Fi = np.meshgrid(r, phi)\n",
    "X = R*(np.cos(Fi)) + xc\n",
    "Y = R*(np.sin(Fi)) + yc\n",
    "X_ = np.around(X)\n",
    "Y_ = np.around(Y)\n",
    "\n",
    "## индексы для полигона\n",
    "points = []\n",
    "for i in range(X_.shape[0]):\n",
    "    for j in range(X_.shape[1]):\n",
    "        x = X_[i,j]\n",
    "        y = Y_[i,j]\n",
    "        points.append((x,y))\n",
    "\n",
    "## создадим тестовый полигон\n",
    "test = cv2.resize(wafer_map.waferMap, dsize=(92,92), interpolation=cv2.INTER_NEAREST) \n",
    "## 2 - паттерн\n",
    "## 1 - фон\n",
    "## 0 - область, где нет ничего\n",
    "test[test == 2] = 1\n",
    "for idx in points:\n",
    "    i, j = idx\n",
    "    i = int(round(i))\n",
    "    j = int(round(j))\n",
    "    test[i, j] = 2\n",
    "    \n",
    "plt.imshow(test);"
   ]
  },
  {
   "cell_type": "markdown",
   "metadata": {},
   "source": [
    "## Кольца с шумом Пуассона"
   ]
  },
  {
   "cell_type": "code",
   "execution_count": 26,
   "metadata": {},
   "outputs": [
    {
     "data": {
      "image/png": "[encoded data removed]",
      "text/plain": [
       "<Figure size 1440x720 with 8 Axes>"
      ]
     },
     "metadata": {},
     "output_type": "display_data"
    }
   ],
   "source": [
    "PHI = [(0, np.pi*2), (0, np.pi*2), (0, np.pi*2), (0, np.pi*2),\n",
    "      (np.pi*1.25, np.pi*1.8), (np.pi*1.5, np.pi*2), (np.pi*1.75, np.pi*2), (0, np.pi*2)]\n",
    "\n",
    "R_ = [(7, 8.5), (20, 30), (7, 7), (2, 8),\n",
    "    (7, 8), (7, 8), (7, 8), (0, 20)]\n",
    "\n",
    "XC = [44 ,40, 54, 44, 44, 74, 33, 33]\n",
    "YC = [44 ,40, 54, 64, 74, 44, 33, 33]\n",
    "## интесивность\n",
    "N = [20, 200, 200, 200, 200, 200, 200, 200]\n",
    "\n",
    "fig, ax = plt.subplots(nrows = 2, ncols = 4, figsize=(20, 10))\n",
    "ax = ax.ravel(order='C')\n",
    "for n in range(8):\n",
    "    ## параметры кольца\n",
    "    phi = np.linspace(PHI[n][0], PHI[n][1], N[n])\n",
    "    r = np.linspace(R_[n][0], R_[n][1], N[n])\n",
    "    xc = XC[n]\n",
    "    yc = YC[n]\n",
    "\n",
    "    ## синтез сетки\n",
    "    R, Fi = np.meshgrid(r, phi)\n",
    "    X = R*(np.cos(Fi)) + xc\n",
    "    Y = R*(np.sin(Fi)) + yc\n",
    "    X_ = np.around(X)\n",
    "    Y_ = np.around(Y)\n",
    "\n",
    "    ## индексы для полигона\n",
    "    points = []\n",
    "    for i in range(X_.shape[0]):\n",
    "        for j in range(X_.shape[1]):\n",
    "            x = X_[i,j]\n",
    "            y = Y_[i,j]\n",
    "            points.append((x,y))\n",
    "\n",
    "    ## создадим тестовый полигон\n",
    "    test = cv2.resize(wafer_map.waferMap, dsize=(92,92), interpolation=cv2.INTER_NEAREST) \n",
    "    ## 2 - паттерн\n",
    "    ## 1 - фон\n",
    "    ## 0 - область, где нет ничего\n",
    "    test[test == 2] = 1\n",
    "    for idx in points:\n",
    "        i, j = idx\n",
    "        i = int(round(i))\n",
    "        j = int(round(j))\n",
    "        test[i, j] = 5\n",
    "        \n",
    "        \n",
    "    ## внесем шум\n",
    "    noise_img = test.copy()\n",
    "    mask = np.random.randint(0, 2, size=noise_img.shape).astype(np.bool)\n",
    "    mask[noise_img == 0] = False\n",
    "    r = np.random.poisson(lam=0.5, size=noise_img.shape)\n",
    "\n",
    "    # нормировка на шумы\n",
    "    # r = np.around(r//np.max(r))\n",
    "    r[r==0] = 1\n",
    "    noise_img[mask] = r[mask]\n",
    "    \n",
    "    \n",
    "    ax[n].imshow(noise_img, cmap='inferno')\n",
    "    ax[n].set_xticks([])\n",
    "    ax[n].set_yticks([])\n",
    "plt.tight_layout()\n",
    "plt.show()"
   ]
  },
  {
   "cell_type": "markdown",
   "metadata": {},
   "source": [
    "### Тест шума"
   ]
  },
  {
   "cell_type": "code",
   "execution_count": 23,
   "metadata": {},
   "outputs": [
    {
     "name": "stdout",
     "output_type": "stream",
     "text": [
      "5 0\n"
     ]
    },
    {
     "data": {
      "image/png": "[encoded data removed]",
      "text/plain": [
       "<Figure size 432x288 with 1 Axes>"
      ]
     },
     "metadata": {},
     "output_type": "display_data"
    }
   ],
   "source": [
    "## внесем шум\n",
    "noise_img = test.copy()\n",
    "mask = np.random.randint(0, 2, size=noise_img.shape).astype(np.bool)\n",
    "mask[noise_img == 0] = False\n",
    "r = np.random.poisson(lam=0.5, size=noise_img.shape)\n",
    "\n",
    "print(np.max(r), np.min(r))\n",
    "# нормировка на шумы\n",
    "r = np.around(r//np.max(r))\n",
    "r[r==0] = 1\n",
    "noise_img[mask] = r[mask]\n",
    "\n",
    "plt.imshow(noise_img, cmap='inferno');"
   ]
  },
  {
   "cell_type": "code",
   "execution_count": null,
   "metadata": {},
   "outputs": [],
   "source": []
  },
  {
   "cell_type": "markdown",
   "metadata": {},
   "source": [
    "## Тест прямой/кривой "
   ]
  },
  {
   "cell_type": "code",
   "execution_count": 27,
   "metadata": {},
   "outputs": [
    {
     "data": {
      "image/png": "[encoded data removed]",
      "text/plain": [
       "<Figure size 1440x720 with 8 Axes>"
      ]
     },
     "metadata": {},
     "output_type": "display_data"
    }
   ],
   "source": [
    "# Параметры сеток\n",
    "## коэффиценты наклона для x, y\n",
    "ALPHA_X = [1.0, 2.0, 3.0, 3.5, \n",
    "           0.1, -0.5, -0.12, 1.0]\n",
    "ALPHA_Y = [1.2, 1.0, 1.0, -1.0, \n",
    "           -1.0, 3.0, -0.7, -0.5]\n",
    "\n",
    "## центры отрезка\n",
    "XC = [44 ,40, 54, 44, 44, 74, 33, 33]\n",
    "YC = [44 ,40, 54, 64, 74, 44, 33, 33]\n",
    "## интесивность\n",
    "N = [20, 200, 200, 200, 200, 200, 200, 200]\n",
    "## длина отрезка\n",
    "L = [20, 20, 20, 20, 20, 20, 20, 20]\n",
    "\n",
    "fig, ax = plt.subplots(nrows = 2, ncols = 4, figsize=(20, 10))\n",
    "ax = ax.ravel(order='C')\n",
    "for n in range(8):        \n",
    "    xc = XC[n]\n",
    "    yc = YC[n]\n",
    "    t = np.linspace(-L[n]//2, L[n]//2, N[n])\n",
    "    alpha_x = ALPHA_X[n]\n",
    "    alpha_y = ALPHA_Y[n]\n",
    "    \n",
    "    ## синтез сетки\n",
    "    X = alpha_x*t + xc\n",
    "    Y = alpha_y*t + yc\n",
    "    X_ = np.around(X)\n",
    "    Y_ = np.around(Y)\n",
    "\n",
    "    ## индексы для полигона\n",
    "    points = []\n",
    "    for i in range(X_.shape[0]):\n",
    "        x = X_[i]\n",
    "        y = Y_[i]\n",
    "        points.append((x,y))\n",
    "\n",
    "    ## создадим тестовый полигон\n",
    "    test = cv2.resize(wafer_map.waferMap, dsize=(92,92), interpolation=cv2.INTER_NEAREST) \n",
    "    ## 2 - паттерн\n",
    "    ## 1 - фон\n",
    "    ## 0 - область, где нет ничего\n",
    "    test[test == 2] = 1\n",
    "    for idx in points:\n",
    "        i, j = idx\n",
    "        i = int(round(i))\n",
    "        j = int(round(j))\n",
    "        test[i, j] = 5\n",
    "\n",
    "    import cv2\n",
    "    ## сверткой расширим\n",
    "    kernel = np.ones((3,3), np.uint8)\n",
    "    kernel = np.array([[0, 1, 0], [1, 1, 1], [0, 1, 0]], dtype=np.uint8)\n",
    "    test = cv2.dilate(test,kernel,iterations = 1)\n",
    "\n",
    "    ## внесем шум\n",
    "    noise_img = test\n",
    "    mask = np.random.randint(0, 2, size=noise_img.shape).astype(np.bool)\n",
    "    mask[noise_img == 0] = False\n",
    "    r = np.random.poisson(lam=0.5, size=noise_img.shape)\n",
    "\n",
    "    # нормировка на шумы\n",
    "    # r = np.around(r//np.max(r))\n",
    "    r[r==0] = 1\n",
    "    noise_img[mask] = r[mask]\n",
    "\n",
    "    ax[n].imshow(noise_img, cmap='inferno')\n",
    "    ax[n].set_xticks([])\n",
    "    ax[n].set_yticks([])\n",
    "plt.tight_layout()\n",
    "plt.show()"
   ]
  },
  {
   "cell_type": "code",
   "execution_count": 43,
   "metadata": {},
   "outputs": [
    {
     "data": {
      "text/plain": [
       "46.0"
      ]
     },
     "execution_count": 43,
     "metadata": {},
     "output_type": "execute_result"
    }
   ],
   "source": [
    "test.shape\n",
    "92/2"
   ]
  },
  {
   "cell_type": "markdown",
   "metadata": {},
   "source": [
    "## Примеры для слайда  "
   ]
  },
  {
   "cell_type": "code",
   "execution_count": 54,
   "metadata": {},
   "outputs": [
    {
     "data": {
      "image/png": "[encoded data removed]",
      "text/plain": [
       "<Figure size 432x288 with 1 Axes>"
      ]
     },
     "metadata": {
      "needs_background": "light"
     },
     "output_type": "display_data"
    }
   ],
   "source": [
    "## параметры кольца\n",
    "phi = np.linspace(0, np.pi*2, 100)\n",
    "r = np.linspace(3, 7, 100)\n",
    "xc = 60\n",
    "yc = 54\n",
    "\n",
    "## синтез сетки\n",
    "R, Fi = np.meshgrid(r, phi)\n",
    "X = R*(np.cos(Fi)) + xc\n",
    "Y = R*(np.sin(Fi)) + yc\n",
    "X_ = np.around(X)\n",
    "Y_ = np.around(Y)\n",
    "\n",
    "## индексы для полигона\n",
    "points = []\n",
    "for i in range(X_.shape[0]):\n",
    "    for j in range(X_.shape[1]):\n",
    "        x = X_[i,j]\n",
    "        y = Y_[i,j]\n",
    "        points.append((x,y))\n",
    "\n",
    "## создадим тестовый полигон\n",
    "test = cv2.resize(wafer_map.waferMap, dsize=(92,92), interpolation=cv2.INTER_NEAREST) \n",
    "## 2 - паттерн\n",
    "## 1 - фон\n",
    "## 0 - область, где нет ничего\n",
    "test[test == 2] = 1\n",
    "for idx in points:\n",
    "    i, j = idx\n",
    "    i = int(round(i))\n",
    "    j = int(round(j))\n",
    "    test[i, j] = 5\n",
    "    \n",
    "\n",
    "    \n",
    "plt.imshow(test);"
   ]
  },
  {
   "cell_type": "code",
   "execution_count": 55,
   "metadata": {},
   "outputs": [
    {
     "data": {
      "image/png": "[encoded data removed]",
      "text/plain": [
       "<Figure size 432x288 with 1 Axes>"
      ]
     },
     "metadata": {
      "needs_background": "light"
     },
     "output_type": "display_data"
    }
   ],
   "source": [
    "## внесем шум\n",
    "noise_img = test.copy()\n",
    "mask = np.random.randint(0, 2, size=noise_img.shape).astype(np.bool)\n",
    "mask[noise_img == 0] = False\n",
    "r = np.random.poisson(lam=0.5, size=noise_img.shape)\n",
    "# нормировка на шумы\n",
    "# r = np.around(r//np.max(r))\n",
    "r[r==0] = 1\n",
    "noise_img[mask] = r[mask]\n",
    "\n",
    "plt.imshow(noise_img, cmap='inferno')\n",
    "plt.savefig('cloud_ring.jpg')"
   ]
  },
  {
   "cell_type": "code",
   "execution_count": 36,
   "metadata": {},
   "outputs": [
    {
     "data": {
      "image/png": "[encoded data removed]",
      "text/plain": [
       "<Figure size 432x288 with 1 Axes>"
      ]
     },
     "metadata": {
      "needs_background": "light"
     },
     "output_type": "display_data"
    }
   ],
   "source": [
    "## создадим тестовый полигон\n",
    "test = cv2.resize(wafer_map.waferMap, dsize=(92,92), interpolation=cv2.INTER_NEAREST) \n",
    "## 2 - паттерн\n",
    "## 1 - фон\n",
    "## 0 - область, где нет ничего\n",
    "test[test == 2] = 1\n",
    "\n",
    "## внесем шум\n",
    "noise_img = test.copy()\n",
    "mask = np.random.randint(0, 2, size=noise_img.shape).astype(np.bool)\n",
    "mask[noise_img == 0] = False\n",
    "r = np.random.poisson(lam=0.5, size=noise_img.shape)\n",
    "# нормировка на шумы\n",
    "# r = np.around(r//np.max(r))\n",
    "r[r==0] = 1\n",
    "noise_img[mask] = r[mask]\n",
    "\n",
    "ts = [t/100.0 for t in range(0, 101)]\n",
    "xys = [(33, 33), (44, 54), (60, 66)]\n",
    "bezier = make_bezier(xys)\n",
    "points = bezier(ts)\n",
    "\n",
    "\n",
    "test = noise_img\n",
    "for idx in points:\n",
    "    i, j = idx\n",
    "    i = round(i)\n",
    "    j = round(j)\n",
    "    test[i, j] = 5\n",
    "    \n",
    "    \n",
    "    \n",
    "import cv2\n",
    "## сверткой расширим\n",
    "# kernel = np.ones((3,3), np.uint8)\n",
    "# kernel = np.array([[0, 1, 0], [1, 1, 1], [0, 0, 0]], dtype=np.uint8)\n",
    "# test = cv2.dilate(test,kernel,iterations = 1)\n",
    "\n",
    "\n",
    "\n",
    "    \n",
    "plt.imshow(test, cmap='inferno')\n",
    "plt.savefig('scratch_long.jpg')"
   ]
  },
  {
   "cell_type": "code",
   "execution_count": 49,
   "metadata": {},
   "outputs": [
    {
     "data": {
      "image/png": "[encoded data removed]",
      "text/plain": [
       "<Figure size 432x288 with 1 Axes>"
      ]
     },
     "metadata": {
      "needs_background": "light"
     },
     "output_type": "display_data"
    }
   ],
   "source": [
    "test = cv2.resize(wafer_map.waferMap, dsize=(92,92), interpolation=cv2.INTER_NEAREST) \n",
    "## 2 - паттерн\n",
    "## 1 - фон\n",
    "## 0 - область, где нет ничего\n",
    "test[test == 2] = 1\n",
    "\n",
    "\n",
    "ts = [t/100.0 for t in range(0, 101)]\n",
    "xys = [(70, 70), (60, 60), (70, 37)]\n",
    "bezier = make_bezier(xys)\n",
    "points = bezier(ts)\n",
    "\n",
    "\n",
    "for idx in points:\n",
    "    i, j = idx\n",
    "    i = round(i)\n",
    "    j = round(j)\n",
    "    test[i, j] = 5\n",
    "\n",
    "import cv2\n",
    "## сверткой расширим\n",
    "kernel = np.ones((3,3), np.uint8)\n",
    "kernel = np.array([[0, 1, 0], [1, 1, 1], [0, 1, 0]], dtype=np.uint8)\n",
    "# test = cv2.dilate(test,kernel,iterations = 1)\n",
    "\n",
    "## внесем шум\n",
    "noise_img = test.copy()\n",
    "mask = np.random.randint(0, 2, size=noise_img.shape).astype(np.bool)\n",
    "mask[noise_img == 0] = False\n",
    "r = np.random.poisson(lam=0.5, size=noise_img.shape)\n",
    "# нормировка на шумы\n",
    "# r = np.around(r//np.max(r))\n",
    "r[r==0] = 1\n",
    "noise_img[mask] = r[mask]\n",
    "\n",
    "\n",
    "    \n",
    "plt.imshow(noise_img, cmap='inferno')\n",
    "plt.savefig('scratch_median.jpg')"
   ]
  },
  {
   "cell_type": "code",
   "execution_count": 48,
   "metadata": {},
   "outputs": [
    {
     "data": {
      "image/png": "[encoded data removed]",
      "text/plain": [
       "<Figure size 432x288 with 1 Axes>"
      ]
     },
     "metadata": {
      "needs_background": "light"
     },
     "output_type": "display_data"
    }
   ],
   "source": [
    "## внесем шум\n",
    "noise_img = test.copy()\n",
    "mask = np.random.randint(0, 2, size=noise_img.shape).astype(np.bool)\n",
    "mask[noise_img == 0] = False\n",
    "r = np.random.poisson(lam=0.5, size=noise_img.shape)\n",
    "# нормировка на шумы\n",
    "# r = np.around(r//np.max(r))\n",
    "r[r==0] = 1\n",
    "noise_img[mask] = r[mask]\n",
    "\n",
    "plt.imshow(noise_img, cmap='inferno')\n",
    "plt.savefig('super_scratch_1.jpg')"
   ]
  },
  {
   "cell_type": "code",
   "execution_count": null,
   "metadata": {},
   "outputs": [],
   "source": []
  },
  {
   "cell_type": "code",
   "execution_count": null,
   "metadata": {},
   "outputs": [],
   "source": []
  },
  {
   "cell_type": "code",
   "execution_count": 33,
   "metadata": {},
   "outputs": [
    {
     "data": {
      "image/png": "[encoded data removed]",
      "text/plain": [
       "<Figure size 432x288 with 1 Axes>"
      ]
     },
     "metadata": {
      "needs_background": "light"
     },
     "output_type": "display_data"
    }
   ],
   "source": [
    "## параметры уравнения\n",
    "xc = 46\n",
    "yc = 46\n",
    "L = 10\n",
    "N = 100\n",
    "angle = 135 * np.pi/180\n",
    "\n",
    "## синтез сетки\n",
    "t = np.linspace(0, L, N)\n",
    "X = np.cos(angle) * t + xc\n",
    "Y = np.sin(angle) * t + yc\n",
    "X_ = np.around(X)\n",
    "Y_ = np.around(Y)\n",
    "\n",
    "## индексы для полигона\n",
    "points = []\n",
    "for i in range(X_.shape[0]):\n",
    "    x = X_[i]\n",
    "    y = Y_[i]\n",
    "    points.append((x,y))\n",
    "\n",
    "## создадим тестовый полигон\n",
    "test = cv2.resize(wafer_map.waferMap, dsize=(92,92), interpolation=cv2.INTER_NEAREST) \n",
    "## 2 - паттерн\n",
    "## 1 - фон\n",
    "## 0 - область, где нет ничего\n",
    "test[test == 2] = 1\n",
    "for idx in points:\n",
    "    i, j = idx\n",
    "    i = int(round(i))\n",
    "    j = int(round(j))\n",
    "    test[i, j] = 5\n",
    "    \n",
    "plt.imshow(test, cmap='inferno');"
   ]
  },
  {
   "cell_type": "code",
   "execution_count": 8,
   "metadata": {},
   "outputs": [],
   "source": [
    "def sawtooth_line(XC, YC, L0, angle, line_count):\n",
    "    ## создадим тестовый полигон\n",
    "    test = cv2.resize(wafer_map.waferMap, dsize=(92,92), interpolation=cv2.INTER_NEAREST) \n",
    "    ## 2 - паттерн\n",
    "    ## 1 - фон\n",
    "    ## 0 - область, где нет ничего\n",
    "    test[test == 2] = 1\n",
    "    COLOR_SCALE = 5\n",
    "\n",
    "    ## параметры уравнения\n",
    "    def delta_(x,y):\n",
    "        return int(math.sqrt(x**2 + y**2))\n",
    "    delta = np.vectorize(delta_)\n",
    "\n",
    "    L = L0 - np.sum(delta(XC, YC)[1:])\n",
    "    N = 200\n",
    "    x0, y0 = 0, 0\n",
    "\n",
    "    ## кусочное построение пилообразной прямой \n",
    "    for i in range(line_count):\n",
    "        ## случайное удлинение или укорочение отрезка\n",
    "        import random\n",
    "        rand = random.randint(-1,1)\n",
    "        t = np.linspace(0, L//(line_count+rand), N)\n",
    "        \n",
    "        xc = XC[i]\n",
    "        yc = YC[i]\n",
    "        X = np.cos(angle[i]) * t + xc + x0\n",
    "        Y = np.sin(angle[i]) * t + yc + y0\n",
    "        X_ = np.around(X)\n",
    "        Y_ = np.around(Y)\n",
    "\n",
    "        x_prev, y_prev = x0, y0\n",
    "\n",
    "        for j in range(X_.shape[0]):\n",
    "            x = int(X_[j])\n",
    "            y = int(Y_[j])\n",
    "            if j == 0:\n",
    "                ## первая точка прямой \n",
    "                x_first, y_first = x, y\n",
    "\n",
    "            try:\n",
    "                if test[x,y] == 1:\n",
    "                    test[x,y] = COLOR_SCALE\n",
    "                    x0, y0 = x, y\n",
    "            except IndexError:\n",
    "                break\n",
    "\n",
    "\n",
    "        ## сшивка прямых        \n",
    "        if i != 0:\n",
    "            ## уравнение прямой сшивки\n",
    "            k = (y_prev - y_first) / (x_prev - x_first)\n",
    "            b = y_first - k*x_first\n",
    "            X = np.linspace(x_prev, x_first, 20)\n",
    "            Y = k * X + b\n",
    "            X_ = np.around(X)\n",
    "            Y_ = np.around(Y)\n",
    "            for j in range(X_.shape[0]):\n",
    "                x = int(X_[j])\n",
    "                y = int(Y_[j])\n",
    "                try:\n",
    "                    test[x,y] = 5\n",
    "                except IndexError:\n",
    "                    break\n",
    "\n",
    "    ## сверткой расширим\n",
    "    kernel = np.ones((3,3), np.uint8)\n",
    "    kernel = np.array([[0, 1, 0], [1, 1, 1], [0, 1, 0]], dtype=np.uint8)\n",
    "#     test = cv2.dilate(test,kernel,iterations = 1)\n",
    "\n",
    "    noise_img = test.copy()\n",
    "    mask = np.random.randint(0, 2, size=noise_img.shape).astype(np.bool)\n",
    "    mask[noise_img == 0] = False\n",
    "    r = np.random.poisson(lam=0.5, size=noise_img.shape)\n",
    "    # нормировка на шумы\n",
    "    # r = np.around(r//np.max(r))\n",
    "    r[r==0] = 1\n",
    "    noise_img[mask] = r[mask]\n",
    "\n",
    "    # test[test==0] = 1\n",
    "\n",
    "    # plt.grid()\n",
    "    plt.imshow(noise_img, cmap='inferno');\n",
    "    # plt.savefig('test_noise_1.jpg')"
   ]
  },
  {
   "cell_type": "code",
   "execution_count": 120,
   "metadata": {},
   "outputs": [],
   "source": [
    "def sawtooth_line(XC_, YC_, L0_, angle_, line_count):\n",
    "    \n",
    "    \n",
    "    size = XC_.shape[0]\n",
    "    fig, ax = plt.subplots(nrows = 10, ncols = 10, figsize=(40, 40))\n",
    "    ax = ax.ravel(order='C')\n",
    "    for n in range(size):   \n",
    "        # иниицализация параметров прямой\n",
    "        L0 = L0_[n]\n",
    "        XC = XC_[n]\n",
    "        YC = YC_[n]\n",
    "        angle = angle_[n]\n",
    "        ## создадим тестовый полигон\n",
    "        test = cv2.resize(wafer_map.waferMap, dsize=(92,92), interpolation=cv2.INTER_NEAREST) \n",
    "        ## 2 - паттерн\n",
    "        ## 1 - фон\n",
    "        ## 0 - область, где нет ничего\n",
    "        test[test == 2] = 1\n",
    "        COLOR_SCALE = 5\n",
    "\n",
    "        ## параметры уравнения\n",
    "        def delta_(x,y):\n",
    "            return int(math.sqrt(x**2 + y**2))\n",
    "        delta = np.vectorize(delta_)\n",
    "\n",
    "        L = L0 - np.sum(delta(XC, YC)[1:])\n",
    "        N = 200\n",
    "        x0, y0 = 0, 0\n",
    "\n",
    "        ## кусочное построение пилообразной прямой \n",
    "        for i in range(line_count):\n",
    "            ## случайное удлинение или укорочение отрезка\n",
    "            import random\n",
    "            rand = random.randint(-1,1)\n",
    "            scale = 0.2\n",
    "            t = np.linspace(0, L//(line_count + rand*scale), N)\n",
    "\n",
    "            xc = XC[i]\n",
    "            yc = YC[i]\n",
    "            X = np.cos(angle[i]) * t + xc + x0\n",
    "            Y = np.sin(angle[i]) * t + yc + y0\n",
    "            X_ = np.around(X)\n",
    "            Y_ = np.around(Y)\n",
    "\n",
    "            x_prev, y_prev = x0, y0\n",
    "\n",
    "            for j in range(X_.shape[0]):\n",
    "                x = int(X_[j])\n",
    "                y = int(Y_[j])\n",
    "                if j == 0:\n",
    "                    ## первая точка прямой \n",
    "                    x_first, y_first = x, y\n",
    "\n",
    "                try:\n",
    "                    if test[x,y] == 1:\n",
    "                        test[x,y] = COLOR_SCALE\n",
    "                        x0, y0 = x, y\n",
    "                except IndexError:\n",
    "                    break\n",
    "\n",
    "\n",
    "            ## сшивка прямых        \n",
    "            if i != 0:\n",
    "                ## уравнение прямой сшивки\n",
    "                k = (y_prev - y_first) / (x_prev - x_first+1e-06)\n",
    "                b = y_first - k*x_first\n",
    "                X = np.linspace(x_prev, x_first, 20)\n",
    "                Y = k * X + b\n",
    "                X_ = np.around(X)\n",
    "                Y_ = np.around(Y)\n",
    "                for j in range(X_.shape[0]):\n",
    "                    x = int(X_[j])\n",
    "                    y = int(Y_[j])\n",
    "                    try:\n",
    "                        if test[x,y] == 1:\n",
    "                            test[x,y] = 5\n",
    "                    except IndexError:\n",
    "                        break\n",
    "\n",
    "        ## сверткой расширим\n",
    "        kernel = np.ones((3,3), np.uint8)\n",
    "        kernel = np.array([[0, 1, 0], [1, 1, 1], [0, 1, 0]], dtype=np.uint8)\n",
    "    #     test = cv2.dilate(test,kernel,iterations = 1)\n",
    "\n",
    "        noise_img = test.copy()\n",
    "        mask = np.random.randint(0, 2, size=noise_img.shape).astype(np.bool)\n",
    "        mask[noise_img == 0] = False\n",
    "        r = np.random.poisson(lam=0.5, size=noise_img.shape)\n",
    "        # нормировка на шумы\n",
    "        # r = np.around(r//np.max(r))\n",
    "        r[r==0] = 1\n",
    "        noise_img[mask] = r[mask]\n",
    "\n",
    "    #     test[test==0] = 1\n",
    "\n",
    "        # plt.grid()\n",
    "    #     plt.figure(figsize=(12,8))\n",
    "        ax[n].imshow(test, cmap='inferno');\n",
    "        # plt.savefig('test_noise_1.jpg')"
   ]
  },
  {
   "cell_type": "code",
   "execution_count": 9,
   "metadata": {},
   "outputs": [
    {
     "data": {
      "image/png": "[encoded data removed]",
      "text/plain": [
       "<Figure size 432x288 with 1 Axes>"
      ]
     },
     "metadata": {
      "needs_background": "light"
     },
     "output_type": "display_data"
    }
   ],
   "source": [
    "import cv2\n",
    "import math\n",
    "\n",
    "XC = np.array([40, -6, -4, 5])\n",
    "YC = np.array([40, 3, 3, 6])\n",
    "L0 = 100\n",
    "angle = np.array([30, 30, 130, 20]) * np.pi/180\n",
    "\n",
    "sawtooth_line(XC, YC, L0, angle, line_count=3)"
   ]
  },
  {
   "cell_type": "code",
   "execution_count": 126,
   "metadata": {},
   "outputs": [
    {
     "name": "stdout",
     "output_type": "stream",
     "text": [
      "Wall time: 1.09 s\n"
     ]
    },
    {
     "data": {
      "image/png": "[encoded data removed]",
      "text/plain": [
       "<Figure size 2880x2880 with 100 Axes>"
      ]
     },
     "metadata": {
      "needs_background": "light"
     },
     "output_type": "display_data"
    }
   ],
   "source": [
    "%%time\n",
    "\n",
    "N_POINT = 100\n",
    "\n",
    "L0 = np.random.randint(30, 40, size=N_POINT)\n",
    "\n",
    "XC = np.random.randint(0, 30, size=N_POINT)\n",
    "delta_xc1 = np.random.randint(-5, -3, size=N_POINT//2)\n",
    "delta_xc2 = np.random.randint(3, 10, size=N_POINT//2)\n",
    "delta_xc = np.hstack((delta_xc1, delta_xc2))\n",
    "np.random.shuffle(delta_xc)\n",
    "XC = np.vstack((XC, delta_xc))\n",
    "xc = np.array([[XC[0,i], XC[1,i]] for i in range(XC.shape[1])])\n",
    "\n",
    "YC = np.random.randint(30, 50, size=N_POINT)\n",
    "delta_yc1 = np.random.randint(-12, -5, size=N_POINT//2)\n",
    "delta_yc2 = np.random.randint(5, 12, size=N_POINT//2)\n",
    "delta_yc = np.hstack((delta_yc1, delta_yc2))\n",
    "np.random.shuffle(delta_yc)\n",
    "YC = np.vstack((YC, delta_yc))\n",
    "yc = np.array([[YC[0,i], YC[1,i]] for i in range(YC.shape[1])])\n",
    "\n",
    "angle1 = np.random.randint(0, 40, size=N_POINT) * np.pi/180\n",
    "angle2 = np.random.randint(40, 90, size=N_POINT) * np.pi/180\n",
    "angle = np.vstack((angle1, angle2))\n",
    "angle = np.array([[angle[0,i], angle[1,i]] for i in range(angle.shape[1])])\n",
    "\n",
    "angle.shape, xc.shape, yc.shape, L0.shape\n",
    "sawtooth_line(xc, yc, L0, angle, line_count=2)"
   ]
  },
  {
   "cell_type": "code",
   "execution_count": 261,
   "metadata": {},
   "outputs": [],
   "source": [
    "XC = np.random.randint(30, 50, size=100)\n",
    "delta_xc1 = np.random.randint(-10, 10, size=100)\n",
    "delta_xc2 = np.random.randint(-10, 10, size=100)\n",
    "XC = np.vstack((XC, delta_xc1, delta_xc2))\n",
    "\n",
    "xc = [[XC[0,i], XC[1,i], XC[2,i]] for i in range(XC.shape[1])]\n",
    "for i in range(XC.shape[1]):\n",
    "    xc.append([XC[0,i], XC[1,i], XC[2,i]])"
   ]
  },
  {
   "cell_type": "code",
   "execution_count": 74,
   "metadata": {},
   "outputs": [
    {
     "data": {
      "text/plain": [
       "array([[0.66322512, 1.25663706, 0.80285146, 0.71558499, 1.41371669,\n",
       "        0.55850536, 1.53588974, 0.54105207, 0.90757121, 0.52359878],\n",
       "       [0.68067841, 1.09955743, 1.09955743, 0.71558499, 1.1693706 ,\n",
       "        0.62831853, 0.95993109, 0.71558499, 0.9250245 , 0.75049158],\n",
       "       [1.57079633, 1.34390352, 0.62831853, 0.9250245 , 1.41371669,\n",
       "        1.55334303, 0.9250245 , 0.95993109, 1.25663706, 0.80285146]])"
      ]
     },
     "execution_count": 74,
     "metadata": {},
     "output_type": "execute_result"
    }
   ],
   "source": [
    "angle1 = np.random.randint(30, 100, size=10) * np.pi/180\n",
    "angle2 = np.random.randint(30, 100, size=10) * np.pi/180\n",
    "angle3 = np.random.randint(30, 100, size=10) * np.pi/180\n",
    "angle = np.vstack((angle1, angle2, angle3))\n",
    "angle"
   ]
  },
  {
   "cell_type": "code",
   "execution_count": 103,
   "metadata": {},
   "outputs": [
    {
     "data": {
      "text/plain": [
       "array([[0.52359878, 0.80285146, 0.9250245 , 1.09955743, 0.62831853,\n",
       "        0.95993109, 1.41371669, 0.71558499, 0.71558499, 0.90757121],\n",
       "       [0.68067841, 0.71558499, 1.25663706, 0.55850536, 1.34390352,\n",
       "        0.62831853, 0.9250245 , 0.9250245 , 1.55334303, 1.09955743],\n",
       "       [1.1693706 , 0.66322512, 1.41371669, 1.53588974, 0.54105207,\n",
       "        0.75049158, 0.80285146, 1.25663706, 1.57079633, 0.95993109]])"
      ]
     },
     "execution_count": 103,
     "metadata": {},
     "output_type": "execute_result"
    }
   ],
   "source": [
    "np.random.shuffle(angle)\n",
    "angle"
   ]
  },
  {
   "cell_type": "code",
   "execution_count": 270,
   "metadata": {},
   "outputs": [
    {
     "name": "stdout",
     "output_type": "stream",
     "text": [
      "Wall time: 0 ns\n"
     ]
    }
   ],
   "source": [
    "%%time\n",
    "xc = [[XC[0,i], XC[1,i], XC[2,i]] for i in range(XC.shape[1])]"
   ]
  },
  {
   "cell_type": "code",
   "execution_count": null,
   "metadata": {},
   "outputs": [],
   "source": []
  },
  {
   "cell_type": "code",
   "execution_count": 269,
   "metadata": {},
   "outputs": [
    {
     "ename": "TypeError",
     "evalue": "'generator' object is not subscriptable",
     "output_type": "error",
     "traceback": [
      "\u001b[1;31m---------------------------------------------------------------------------\u001b[0m",
      "\u001b[1;31mTypeError\u001b[0m                                 Traceback (most recent call last)",
      "\u001b[1;32m<ipython-input-269-82d3eee087b6>\u001b[0m in \u001b[0;36m<module>\u001b[1;34m\u001b[0m\n\u001b[1;32m----> 1\u001b[1;33m \u001b[0mxc\u001b[0m\u001b[1;33m[\u001b[0m\u001b[1;36m1\u001b[0m\u001b[1;33m]\u001b[0m\u001b[1;33m\u001b[0m\u001b[1;33m\u001b[0m\u001b[0m\n\u001b[0m",
      "\u001b[1;31mTypeError\u001b[0m: 'generator' object is not subscriptable"
     ]
    }
   ],
   "source": [
    "xc[1]"
   ]
  },
  {
   "cell_type": "code",
   "execution_count": 268,
   "metadata": {},
   "outputs": [
    {
     "data": {
      "text/plain": [
       "<generator object <genexpr> at 0x000001F014A03F68>"
      ]
     },
     "execution_count": 268,
     "metadata": {},
     "output_type": "execute_result"
    }
   ],
   "source": [
    "xc"
   ]
  },
  {
   "cell_type": "code",
   "execution_count": 234,
   "metadata": {},
   "outputs": [
    {
     "data": {
      "text/plain": [
       "array([2, 0, 2, 0])"
      ]
     },
     "execution_count": 234,
     "metadata": {},
     "output_type": "execute_result"
    }
   ],
   "source": [
    "np.concatenate((np.array([2, 0]), np.array([2, 0])), axis=0)"
   ]
  },
  {
   "cell_type": "code",
   "execution_count": 224,
   "metadata": {},
   "outputs": [
    {
     "data": {
      "text/plain": [
       "[2, 0, 2, 0]"
      ]
     },
     "execution_count": 224,
     "metadata": {},
     "output_type": "execute_result"
    }
   ],
   "source": [
    "[2, 0] + [2, 0]"
   ]
  },
  {
   "cell_type": "code",
   "execution_count": null,
   "metadata": {},
   "outputs": [],
   "source": []
  },
  {
   "cell_type": "code",
   "execution_count": null,
   "metadata": {},
   "outputs": [],
   "source": []
  },
  {
   "cell_type": "code",
   "execution_count": null,
   "metadata": {},
   "outputs": [],
   "source": []
  },
  {
   "cell_type": "code",
   "execution_count": null,
   "metadata": {},
   "outputs": [],
   "source": []
  },
  {
   "cell_type": "code",
   "execution_count": null,
   "metadata": {},
   "outputs": [],
   "source": []
  },
  {
   "cell_type": "code",
   "execution_count": null,
   "metadata": {},
   "outputs": [],
   "source": []
  },
  {
   "cell_type": "code",
   "execution_count": null,
   "metadata": {},
   "outputs": [],
   "source": []
  },
  {
   "cell_type": "code",
   "execution_count": null,
   "metadata": {},
   "outputs": [],
   "source": []
  },
  {
   "cell_type": "code",
   "execution_count": null,
   "metadata": {},
   "outputs": [],
   "source": []
  },
  {
   "cell_type": "code",
   "execution_count": null,
   "metadata": {},
   "outputs": [],
   "source": []
  },
  {
   "cell_type": "code",
   "execution_count": null,
   "metadata": {},
   "outputs": [],
   "source": []
  },
  {
   "cell_type": "code",
   "execution_count": null,
   "metadata": {},
   "outputs": [],
   "source": []
  },
  {
   "cell_type": "code",
   "execution_count": null,
   "metadata": {},
   "outputs": [],
   "source": []
  },
  {
   "cell_type": "code",
   "execution_count": null,
   "metadata": {},
   "outputs": [],
   "source": []
  },
  {
   "cell_type": "code",
   "execution_count": null,
   "metadata": {},
   "outputs": [],
   "source": []
  }
 ],
 "metadata": {
  "kernelspec": {
   "display_name": "Python 3",
   "language": "python",
   "name": "python3"
  },
  "language_info": {
   "codemirror_mode": {
    "name": "ipython",
    "version": 3
   },
   "file_extension": ".py",
   "mimetype": "text/x-python",
   "name": "python",
   "nbconvert_exporter": "python",
   "pygments_lexer": "ipython3",
   "version": "3.6.7"
  }
 },
 "nbformat": 4,
 "nbformat_minor": 2
}
