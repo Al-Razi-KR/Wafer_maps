{
 "cells": [
  {
   "cell_type": "code",
   "execution_count": 1,
   "metadata": {},
   "outputs": [],
   "source": [
    "import numpy as np \n",
    "import pandas as pd \n",
    "import matplotlib.pyplot as plt \n",
    "import os\n",
    "import cv2\n",
    "import math\n",
    "import random\n",
    "\n",
    "from multiprocessing import cpu_count\n",
    "from joblib import Parallel, delayed\n",
    "cpu_count = cpu_count()\n",
    "\n",
    "%matplotlib inline \n",
    "\n",
    "IMAGE_DIMS = (92 , 92 , 1)"
   ]
  },
  {
   "cell_type": "markdown",
   "metadata": {},
   "source": [
    "## Загрузка шаблона карты"
   ]
  },
  {
   "cell_type": "code",
   "execution_count": 2,
   "metadata": {},
   "outputs": [
    {
     "data": {
      "image/png": "[encoded data removed]",
      "text/plain": [
       "<Figure size 432x288 with 1 Axes>"
      ]
     },
     "metadata": {
      "needs_background": "light"
     },
     "output_type": "display_data"
    }
   ],
   "source": [
    "wafer_map = pd.read_pickle('test_wafer_map.pkl')\n",
    "test = cv2.resize(wafer_map.waferMap, dsize=(IMAGE_DIMS[0],IMAGE_DIMS[1]), \n",
    "                  interpolation=cv2.INTER_NEAREST) \n",
    "\n",
    "## 2 - паттерн\n",
    "## 1 - фон\n",
    "## 0 - область, где нет ничего\n",
    "test[test == 2] = 1\n",
    "\n",
    "## проверка\n",
    "plt.imshow(test);"
   ]
  },
  {
   "cell_type": "markdown",
   "metadata": {},
   "source": [
    "# Генератор пилообразных прямых "
   ]
  },
  {
   "cell_type": "code",
   "execution_count": 3,
   "metadata": {},
   "outputs": [],
   "source": [
    "def sawtooth_line(XC_, YC_, L0_, angle_, line_count, pattern_type, lam_poisson=0.2, save=False):\n",
    "    size = XC_.shape[0]\n",
    "    df = [None] * size\n",
    "    \n",
    "    for n in range(size):   \n",
    "        # иниицализация параметров прямой\n",
    "        L0 = L0_[n]\n",
    "        XC = XC_[n]\n",
    "        YC = YC_[n]\n",
    "        angle = angle_[n]\n",
    "        ## создадим тестовый полигон\n",
    "        test = cv2.resize(wafer_map.waferMap, dsize=(IMAGE_DIMS[0],IMAGE_DIMS[1]), \n",
    "                  interpolation=cv2.INTER_NEAREST)\n",
    "        ## 2 - паттерн\n",
    "        ## 1 - фон\n",
    "        ## 0 - область, где нет ничего\n",
    "        test[test == 2] = 1\n",
    "        COLOR_SCALE = 2\n",
    "\n",
    "        ## параметры уравнения\n",
    "        def delta_(x,y):\n",
    "            return int(math.sqrt(x**2 + y**2))\n",
    "        delta = np.vectorize(delta_)\n",
    "\n",
    "        L = L0 - np.sum(delta(XC, YC)[1:])\n",
    "        N = 200\n",
    "        x0, y0 = 0, 0\n",
    "\n",
    "        ## кусочное построение пилообразной прямой \n",
    "        for i in range(line_count):\n",
    "            ## случайное удлинение или укорочение отрезка\n",
    "            import random\n",
    "            rand = random.randint(-1,0)\n",
    "            scale = 0.4\n",
    "            t = np.linspace(0, L//(line_count + rand*scale), N)\n",
    "\n",
    "            xc = XC[i]\n",
    "            yc = YC[i]\n",
    "            X = np.cos(angle[i]) * t + xc + x0\n",
    "            Y = np.sin(angle[i]) * t + yc + y0\n",
    "            X_ = np.around(X)\n",
    "            Y_ = np.around(Y)\n",
    "\n",
    "            x_prev, y_prev = x0, y0\n",
    "\n",
    "            for j in range(X_.shape[0]):\n",
    "                x = int(X_[j])\n",
    "                y = int(Y_[j])\n",
    "                if j == 0:\n",
    "                    ## первая точка прямой \n",
    "                    x_first, y_first = x, y\n",
    "\n",
    "                try:\n",
    "                    if test[x,y] == 1:\n",
    "                        test[x,y] = COLOR_SCALE\n",
    "                        x0, y0 = x, y\n",
    "                except IndexError:\n",
    "                    break\n",
    "\n",
    "\n",
    "            ## сшивка прямых        \n",
    "            if i != 0:\n",
    "                ## уравнение прямой сшивки\n",
    "                k = (y_prev - y_first) / (x_prev - x_first+1e-06)\n",
    "                b = y_first - k*x_first\n",
    "                X = np.linspace(x_prev, x_first, 20)\n",
    "                Y = k * X + b\n",
    "                X_ = np.around(X)\n",
    "                Y_ = np.around(Y)\n",
    "                for j in range(X_.shape[0]):\n",
    "                    x = int(X_[j])\n",
    "                    y = int(Y_[j])\n",
    "                    try:\n",
    "                        if test[x,y] == 1:\n",
    "                            test[x,y] = COLOR_SCALE\n",
    "                    except IndexError:\n",
    "                        break\n",
    "\n",
    "\n",
    "#         kernel = np.ones((3,3), np.uint8)\n",
    "        kernel = np.array([[0, 1, 0], [1, 1, 1], [0, 1, 0]], dtype=np.uint8)\n",
    "        test = cv2.dilate(test,kernel,iterations = 1)\n",
    "        test = cv2.morphologyEx(test, cv2.MORPH_CLOSE, kernel)\n",
    "            \n",
    "        noise_img = test.copy()\n",
    "        mask = np.random.randint(0, 2, size=noise_img.shape).astype(np.bool)\n",
    "        mask[noise_img == 0] = False\n",
    "        r = np.random.poisson(lam=lam_poisson, size=noise_img.shape)\n",
    "        r[r==0] = 1\n",
    "        r[r>2] = 2\n",
    "        noise_img[mask] = r[mask]\n",
    "        \n",
    "#         kernel = np.ones((3,3), np.uint8)\n",
    "        kernel = np.array([[0, 1, 0], [1, 1, 1], [0, 1, 0]], dtype=np.uint8)\n",
    "        noise_img = cv2.morphologyEx(noise_img, cv2.MORPH_CLOSE, kernel)\n",
    "\n",
    "        df[n] = [noise_img, pattern_type]\n",
    "        \n",
    "        ## для презенташки\n",
    "        if save==True:\n",
    "            path = 'output/test_classes/{}'.format(pattern_type)\n",
    "            try:\n",
    "                os.mkdir(path)\n",
    "            except OSError:\n",
    "                pass\n",
    "            plt.imshow(noise_img, cmap='inferno')\n",
    "            name = '/{}{}.jpg'.format(pattern_type,n)\n",
    "            plt.savefig(path+name)\n",
    "        \n",
    "    return pd.DataFrame(df, columns=['waferMap', 'failureType'])\n"
   ]
  },
  {
   "cell_type": "markdown",
   "metadata": {},
   "source": [
    "# Генерация кривых"
   ]
  },
  {
   "cell_type": "markdown",
   "metadata": {},
   "source": [
    "## Пилообразные прямые "
   ]
  },
  {
   "cell_type": "code",
   "execution_count": 8,
   "metadata": {
    "scrolled": false,
    "slideshow": {
     "slide_type": "-"
    }
   },
   "outputs": [
    {
     "name": "stdout",
     "output_type": "stream",
     "text": [
      "Wall time: 249 ms\n"
     ]
    }
   ],
   "source": [
    "%%time\n",
    "## число синтезированных карт\n",
    "N_POINTS = 2000\n",
    "\n",
    "## суммарная длина отрезка \n",
    "L0 = np.random.randint(0.4*IMAGE_DIMS[0], 0.65*IMAGE_DIMS[0], size=N_POINTS)\n",
    "\n",
    "## X координата старта прямой\n",
    "XC = np.random.randint(0.2*IMAGE_DIMS[0], 0.4*IMAGE_DIMS[0], size=N_POINTS)\n",
    "## смещение по x для старта следующей прямой\n",
    "delta_xc = np.random.randint(0.02*IMAGE_DIMS[0], 0.05*IMAGE_DIMS[0], size=N_POINTS)\n",
    "np.random.shuffle(delta_xc)\n",
    "XC = np.vstack((XC, delta_xc))\n",
    "## merge под формат генератора\n",
    "xc = np.array([[XC[0,i], XC[1,i]] for i in range(XC.shape[1])])\n",
    "\n",
    "## Y координата старта прямой\n",
    "YC = np.random.randint(0.5*IMAGE_DIMS[0], 0.7*IMAGE_DIMS[0], size=N_POINTS)\n",
    "## смещение по x для старта следующей прямой\n",
    "delta_yc = np.random.randint(0.04*IMAGE_DIMS[0], 0.09*IMAGE_DIMS[0], size=N_POINTS)\n",
    "np.random.shuffle(delta_yc)\n",
    "YC = np.vstack((YC, delta_yc))\n",
    "## merge под формат генератора\n",
    "yc = np.array([[YC[0,i], YC[1,i]] for i in range(YC.shape[1])])\n",
    "\n",
    "## углы наклона для каждого отрезка\n",
    "angle1 = np.random.randint(-34, -10, size=N_POINTS) * np.pi/180\n",
    "angle2 = np.random.randint(-34, -25, size=N_POINTS) * np.pi/180\n",
    "angle = np.vstack((angle1, angle2))\n",
    "angle = np.array([[angle[0,i], angle[1,i]] for i in range(angle.shape[1])])\n",
    "\n",
    "PHI = None\n",
    "for i in range(4):\n",
    "    ## угол старта для сектора\n",
    "    phi1 = np.random.uniform(45*i, 30*(i+1), size=N_POINTS//4) * np.pi/180\n",
    "    ## угол конца для сектора\n",
    "    phi2 = np.random.uniform(30*(i+1), 60*(i+1), size=N_POINTS//4) * np.pi/180\n",
    "    phi = np.vstack((phi1, phi2))\n",
    "    ## merge под формат генератора\n",
    "    phi = np.array([[phi[0,j], phi[1,j]] for j in range(phi.shape[1])])\n",
    "    if i == 0:\n",
    "        PHI = phi\n",
    "    else:\n",
    "        PHI = np.vstack((PHI, phi))\n",
    "\n",
    "def generator_scratch(mode=0):\n",
    "    if mode == 1:\n",
    "        ## генератор для презенташки\n",
    "        df_scratch_curved = sawtooth_line(xc, yc, L0, angle, pattern_type='Scratch', line_count=2, lam_poisson=0.7,save=True)\n",
    "    elif mode == 0:\n",
    "        ## генератор параллельный\n",
    "        n_workers = cpu_count\n",
    "        results = Parallel(n_workers)(\n",
    "            delayed(sawtooth_line)(xc[i::n_workers], yc[i::n_workers],\n",
    "                                  L0[i::n_workers], angle[i::n_workers],\n",
    "                                  pattern_type='Scratch', line_count=2) \n",
    "            for i in range(n_workers))\n",
    "\n",
    "        df_scratch_curved = results[0]\n",
    "        for i in range(1, len(results)):\n",
    "            df_scratch_curved = pd.concat((df_scratch_curved, results[i]), sort=False)\n",
    "            \n",
    "    return df_scratch_curved\n",
    "            \n",
    "            \n",
    "df_scratch_curved = generator_scratch(mode=0)"
   ]
  },
  {
   "cell_type": "code",
   "execution_count": 9,
   "metadata": {},
   "outputs": [
    {
     "data": {
      "image/png": "[encoded data removed]",
      "text/plain": [
       "<Figure size 2016x1440 with 10 Axes>"
      ]
     },
     "metadata": {
      "needs_background": "light"
     },
     "output_type": "display_data"
    }
   ],
   "source": [
    "fig, ax = plt.subplots(nrows = 1, ncols = 10, figsize=(28, 20))\n",
    "ax = ax.ravel(order='C')\n",
    "for i in range(10):\n",
    "    ax[i].imshow(df_scratch_curved.waferMap.values[i], cmap='inferno')\n",
    "\n",
    "plt.show() "
   ]
  },
  {
   "cell_type": "markdown",
   "metadata": {},
   "source": [
    "# Генератор колец "
   ]
  },
  {
   "cell_type": "code",
   "execution_count": 10,
   "metadata": {},
   "outputs": [],
   "source": [
    "def create_rings(XC, YC, R_, PHI, N, pattern_type, lam_poisson=1.2, save=False):\n",
    "    size = XC.shape[0]\n",
    "    df = [None] * size\n",
    "    \n",
    "    for n in range(size):\n",
    "        ## параметры кольца\n",
    "        phi = np.linspace(PHI[n][0], PHI[n][1], N[n])\n",
    "        r = np.linspace(R_[n][0], R_[n][1], N[n])\n",
    "        xc = XC[n]\n",
    "        yc = YC[n]\n",
    "\n",
    "        ## синтез сетки\n",
    "        R, Fi = np.meshgrid(r, phi)\n",
    "        X = R*(np.cos(Fi)) + xc\n",
    "        Y = R*(np.sin(Fi)) + yc\n",
    "        X_ = np.around(X)\n",
    "        Y_ = np.around(Y)\n",
    "\n",
    "        ## индексы для полигона\n",
    "        points = []\n",
    "        for i in range(X_.shape[0]):\n",
    "            for j in range(X_.shape[1]):\n",
    "                x = X_[i,j]\n",
    "                y = Y_[i,j]\n",
    "                points.append((x,y))\n",
    "\n",
    "        ## создадим тестовый полигон\n",
    "        test = cv2.resize(wafer_map.waferMap, dsize=(IMAGE_DIMS[0],IMAGE_DIMS[1]), \n",
    "                  interpolation=cv2.INTER_NEAREST) \n",
    "        ## 2 - паттерн\n",
    "        ## 1 - фон\n",
    "        ## 0 - область, где нет ничего\n",
    "        test[test == 2] = 1\n",
    "        COLOR_SCALE = 2\n",
    "        \n",
    "        \n",
    "        for idx in points:\n",
    "            i, j = idx\n",
    "            i = int(round(i))\n",
    "            j = int(round(j))\n",
    "            try:\n",
    "                if test[i,j] == 1:\n",
    "                    test[i,j] = COLOR_SCALE\n",
    "            except IndexError:\n",
    "                break\n",
    "                \n",
    "        \n",
    "        is_dilate = random.randint(-1,1)\n",
    "        if is_dilate == 1:\n",
    "            ## сверткой расширим\n",
    "            kernel = np.ones((3,3), np.uint8)\n",
    "            kernel = np.array([[0, 1, 0], [1, 1, 1], [0, 1, 0]], dtype=np.uint8)\n",
    "            count_iter = random.randint(1,3)\n",
    "            test = cv2.dilate(test,kernel,iterations = count_iter)\n",
    "            test = cv2.morphologyEx(test, cv2.MORPH_CLOSE, kernel)\n",
    "\n",
    "\n",
    "        ## внесем шум\n",
    "        noise_img = test.copy()\n",
    "        mask = np.random.randint(0, 2, size=noise_img.shape).astype(np.bool)\n",
    "        mask[noise_img == 0] = False\n",
    "        r = np.random.poisson(lam=lam_poisson, size=noise_img.shape)\n",
    "        # нормировка на шумы\n",
    "        r[r==0] = 1\n",
    "        r[r>2] = 2\n",
    "        noise_img[mask] = r[mask]\n",
    "        \n",
    "\n",
    "        ## сверткой расширим\n",
    "        kernel = np.ones((3,3), np.uint8)\n",
    "        kernel = np.array([[0, 1, 0], [1, 1, 1], [0, 1, 0]], dtype=np.uint8)\n",
    "        noise_img = cv2.morphologyEx(noise_img, cv2.MORPH_CLOSE, kernel)\n",
    "        noise_img = cv2.erode(noise_img,kernel,iterations = 1)\n",
    "        \n",
    "        df[n] = [noise_img, pattern_type]\n",
    "        \n",
    "        ## для презенташки\n",
    "        if save==True:\n",
    "            path = 'output/test_classes/{}'.format(pattern_type)\n",
    "            try:\n",
    "                os.mkdir(path)\n",
    "            except OSError:\n",
    "                pass\n",
    "            plt.imshow(noise_img, cmap='inferno')\n",
    "            name = '/{}{}.jpg'.format(pattern_type,n)\n",
    "            plt.savefig(path+name)\n",
    "        \n",
    "    return pd.DataFrame(df, columns=['waferMap', 'failureType'])\n"
   ]
  },
  {
   "cell_type": "markdown",
   "metadata": {},
   "source": [
    "## Rings"
   ]
  },
  {
   "cell_type": "code",
   "execution_count": 17,
   "metadata": {},
   "outputs": [
    {
     "name": "stdout",
     "output_type": "stream",
     "text": [
      "Wall time: 22.9 s\n"
     ]
    }
   ],
   "source": [
    "%%time\n",
    "## число синтезированных карт\n",
    "N_POINTS = 2000\n",
    "\n",
    "PHI = None\n",
    "for i in range(4):\n",
    "    ## угол старта для сектора\n",
    "    phi1 = np.random.uniform(0+95*i, 30+95*i, size=N_POINTS//4) * np.pi/180\n",
    "    ## угол конца для сектора\n",
    "    phi2 = np.random.uniform(320+90*i, 360*(i+1), size=N_POINTS//4) * np.pi/180\n",
    "    phi = np.vstack((phi1, phi2))\n",
    "    ## merge под формат генератора\n",
    "    phi = np.array([[phi[0,j], phi[1,j]] for j in range(phi.shape[1])])\n",
    "    if i == 0:\n",
    "        PHI = phi\n",
    "    else:\n",
    "        PHI = np.vstack((PHI, phi))\n",
    "\n",
    "## радиус внутреннего круга\n",
    "r1 = np.random.randint(0.24*IMAGE_DIMS[0], 0.26*IMAGE_DIMS[0], size=N_POINTS)\n",
    "## радиус внешнего круга \n",
    "r2 = np.random.randint(0.3*IMAGE_DIMS[0], 0.35*IMAGE_DIMS[0], size=N_POINTS)\n",
    "r = np.vstack((r1, r2))\n",
    "## merge под формат генератора\n",
    "r = np.array([[r[0,i], r[1,i]] for i in range(r.shape[1])])\n",
    "\n",
    "## X координата старта прямой\n",
    "XC = np.random.randint(0.22*IMAGE_DIMS[0], 0.65*IMAGE_DIMS[0], size=N_POINTS)\n",
    "## Y координата старта прямой\n",
    "YC = np.random.randint(0.22*IMAGE_DIMS[0], 0.65*IMAGE_DIMS[0], size=N_POINTS)\n",
    "\n",
    "## интесивность\n",
    "N = np.random.randint(200, 210, size=N_POINTS)\n",
    "\n",
    "\n",
    "def generator_rings(mode=0):\n",
    "    if mode == 1:\n",
    "        ## генератор для презенташки\n",
    "        df_donut = create_rings(XC, YC, r, PHI, N, pattern_type='Donut', save=True, lam_poisson=1.7)\n",
    "        \n",
    "    elif mode == 0:\n",
    "        ## генератор параллельный\n",
    "        n_workers = cpu_count\n",
    "        results = Parallel(n_workers)(\n",
    "            delayed(create_rings)(XC[i::n_workers], YC[i::n_workers],\n",
    "                                  r[i::n_workers], PHI[i::n_workers],\n",
    "                                  N[i::n_workers], pattern_type='Donut') \n",
    "            for i in range(n_workers))\n",
    "\n",
    "        df_donut = results[0]\n",
    "        for i in range(1, len(results)):\n",
    "            df_donut = pd.concat((df_donut, results[i]), sort=False)\n",
    "            \n",
    "    return df_donut\n",
    "            \n",
    "df_donut = generator_rings(mode=0)          "
   ]
  },
  {
   "cell_type": "code",
   "execution_count": 18,
   "metadata": {},
   "outputs": [
    {
     "data": {
      "image/png": "[encoded data removed]",
      "text/plain": [
       "<Figure size 2016x1440 with 10 Axes>"
      ]
     },
     "metadata": {
      "needs_background": "light"
     },
     "output_type": "display_data"
    }
   ],
   "source": [
    "fig, ax = plt.subplots(nrows = 1, ncols = 10, figsize=(28, 20))\n",
    "ax = ax.ravel(order='C')\n",
    "for i in range(10):\n",
    "    ax[i].imshow(df_donut.waferMap.values[i], cmap='inferno')\n",
    "\n",
    "plt.show() "
   ]
  },
  {
   "cell_type": "markdown",
   "metadata": {},
   "source": [
    "## Loc "
   ]
  },
  {
   "cell_type": "code",
   "execution_count": 19,
   "metadata": {},
   "outputs": [
    {
     "name": "stdout",
     "output_type": "stream",
     "text": [
      "Wall time: 23.5 s\n"
     ]
    }
   ],
   "source": [
    "%%time\n",
    "## число синтезированных карт\n",
    "N_POINTS = 2000\n",
    "\n",
    "PHI = None\n",
    "for i in range(4):\n",
    "    ## угол старта для сектора\n",
    "    phi1 = np.random.uniform(95*i, 55+90*i, size=N_POINTS//4) * np.pi/180\n",
    "    ## угол конца для сектора\n",
    "    phi2 = np.random.uniform(65+90*i, 95*(i+1), size=N_POINTS//4) * np.pi/180\n",
    "    phi = np.vstack((phi1, phi2))\n",
    "    ## merge под формат генератора\n",
    "    phi = np.array([[phi[0,j], phi[1,j]] for j in range(phi.shape[1])])\n",
    "    if i == 0:\n",
    "        PHI = phi\n",
    "    else:\n",
    "        PHI = np.vstack((PHI, phi))\n",
    "\n",
    "## радиус внутреннего круга\n",
    "r1 = np.random.randint(0.1*IMAGE_DIMS[0], 0.2*IMAGE_DIMS[0], size=N_POINTS)\n",
    "## радиус внешнего круга \n",
    "r2 = np.random.randint(0.2*IMAGE_DIMS[0], 0.25*IMAGE_DIMS[0], size=N_POINTS)\n",
    "r = np.vstack((r1, r2))\n",
    "## merge под формат генератора\n",
    "r = np.array([[r[0,i], r[1,i]] for i in range(r.shape[1])])\n",
    "\n",
    "## X координата старта прямой\n",
    "XC = np.random.randint(0.45*IMAGE_DIMS[0], 0.55*IMAGE_DIMS[0] , size=N_POINTS)\n",
    "## Y координата старта прямой\n",
    "YC = np.random.randint(0.45*IMAGE_DIMS[0], 0.55*IMAGE_DIMS[0], size=N_POINTS)\n",
    "\n",
    "## интесивность\n",
    "N = np.random.randint(200, 210, size=N_POINTS)\n",
    "\n",
    "\n",
    "def generator_loc(mode=0):\n",
    "    if mode == 1:\n",
    "        ## генератор для презенташки\n",
    "        df_loc = create_rings(XC, YC, r, PHI, N, pattern_type='Loc', save=True)\n",
    "    elif mode == 0:\n",
    "        ## генератор параллельный\n",
    "        n_workers = cpu_count\n",
    "        results = Parallel(n_workers)(\n",
    "            delayed(create_rings)(XC[i::n_workers], YC[i::n_workers],\n",
    "                                  r[i::n_workers], PHI[i::n_workers],\n",
    "                                  N[i::n_workers], pattern_type='Loc') \n",
    "            for i in range(n_workers))\n",
    "\n",
    "        df_loc = results[0]\n",
    "        for i in range(1, len(results)):\n",
    "            df_loc = pd.concat((df_loc, results[i]), sort=False)\n",
    "            \n",
    "    return df_loc\n",
    "            \n",
    "            \n",
    "df_loc = generator_loc(mode=0)"
   ]
  },
  {
   "cell_type": "code",
   "execution_count": 21,
   "metadata": {},
   "outputs": [
    {
     "data": {
      "image/png": "[encoded data removed]",
      "text/plain": [
       "<Figure size 2016x1440 with 10 Axes>"
      ]
     },
     "metadata": {
      "needs_background": "light"
     },
     "output_type": "display_data"
    }
   ],
   "source": [
    "fig, ax = plt.subplots(nrows = 1, ncols = 10, figsize=(28, 20))\n",
    "ax = ax.ravel(order='C')\n",
    "for i in range(10):\n",
    "    ax[i].imshow(df_loc.waferMap.values[i], cmap='inferno')\n",
    "\n",
    "plt.show() "
   ]
  },
  {
   "cell_type": "markdown",
   "metadata": {},
   "source": [
    "## Center "
   ]
  },
  {
   "cell_type": "code",
   "execution_count": 22,
   "metadata": {},
   "outputs": [
    {
     "name": "stdout",
     "output_type": "stream",
     "text": [
      "Wall time: 22.6 s\n"
     ]
    }
   ],
   "source": [
    "%%time\n",
    "## число синтезированных карт\n",
    "N_POINTS = 2000\n",
    "\n",
    "PHI = None\n",
    "for i in range(4):\n",
    "    ## угол старта для сектора\n",
    "    phi1 = np.random.uniform(95*i, 10+90*i, size=N_POINTS//4) * np.pi/180\n",
    "    ## угол конца для сектора\n",
    "    phi2 = np.random.uniform(45+90*i, 95*(i+1), size=N_POINTS//4) * np.pi/180\n",
    "    phi = np.vstack((phi1, phi2))\n",
    "    ## merge под формат генератора\n",
    "    phi = np.array([[phi[0,j], phi[1,j]] for j in range(phi.shape[1])])\n",
    "    if i == 0:\n",
    "        PHI = phi\n",
    "    else:\n",
    "        PHI = np.vstack((PHI, phi))\n",
    "\n",
    "## радиус внутреннего круга\n",
    "r1 = np.random.randint(0.0*IMAGE_DIMS[0], 0.05*IMAGE_DIMS[0], size=N_POINTS)\n",
    "## радиус внешнего круга \n",
    "r2 = np.random.randint(0.12*IMAGE_DIMS[0], 0.23*IMAGE_DIMS[0], size=N_POINTS)\n",
    "r = np.vstack((r1, r2))\n",
    "## merge под формат генератора\n",
    "r = np.array([[r[0,i], r[1,i]] for i in range(r.shape[1])])\n",
    "\n",
    "## X координата старта прямой\n",
    "XC = np.random.randint(0.48*IMAGE_DIMS[0], 0.5*IMAGE_DIMS[0], size=N_POINTS)\n",
    "## Y координата старта прямой\n",
    "YC = np.random.randint(0.48*IMAGE_DIMS[0], 0.5*IMAGE_DIMS[0], size=N_POINTS)\n",
    "\n",
    "## интесивность\n",
    "N = np.random.randint(200, 210, size=N_POINTS)\n",
    "\n",
    "\n",
    "def generator_center(mode=0):\n",
    "    if mode == 1:\n",
    "        ## генератор для презенташки\n",
    "        df_center = create_rings(XC, YC, r, PHI, N, pattern_type='Center', save=True)\n",
    "    elif mode == 0:\n",
    "        ## генератор параллельный\n",
    "        n_workers = cpu_count\n",
    "        results = Parallel(n_workers)(\n",
    "            delayed(create_rings)(XC[i::n_workers], YC[i::n_workers],\n",
    "                                  r[i::n_workers], PHI[i::n_workers],\n",
    "                                  N[i::n_workers], pattern_type='Center') \n",
    "            for i in range(n_workers))\n",
    "\n",
    "        df_center = results[0]\n",
    "        for i in range(1, len(results)):\n",
    "            df_center = pd.concat((df_center, results[i]), sort=False)\n",
    "        \n",
    "    return df_center\n",
    "            \n",
    "df_center = generator_center(mode=0)"
   ]
  },
  {
   "cell_type": "code",
   "execution_count": 23,
   "metadata": {},
   "outputs": [
    {
     "data": {
      "image/png": "[encoded data removed]",
      "text/plain": [
       "<Figure size 2016x1440 with 10 Axes>"
      ]
     },
     "metadata": {
      "needs_background": "light"
     },
     "output_type": "display_data"
    }
   ],
   "source": [
    "fig, ax = plt.subplots(nrows = 1, ncols = 10, figsize=(28, 20))\n",
    "ax = ax.ravel(order='C')\n",
    "for i in range(10):\n",
    "    ax[i].imshow(df_center.waferMap.values[i], cmap='inferno')\n",
    "\n",
    "plt.show() "
   ]
  },
  {
   "cell_type": "markdown",
   "metadata": {},
   "source": [
    "## Random sky"
   ]
  },
  {
   "cell_type": "code",
   "execution_count": 94,
   "metadata": {},
   "outputs": [
    {
     "name": "stdout",
     "output_type": "stream",
     "text": [
      "Wall time: 2.98 s\n"
     ]
    },
    {
     "data": {
      "image/png": "[encoded data removed]",
      "text/plain": [
       "<Figure size 432x288 with 1 Axes>"
      ]
     },
     "metadata": {
      "needs_background": "light"
     },
     "output_type": "display_data"
    }
   ],
   "source": [
    "%%time\n",
    "## число синтезированных карт\n",
    "N_POINTS = 12\n",
    "\n",
    "PHI = None\n",
    "for i in range(4):\n",
    "    ## угол старта для сектора\n",
    "    phi1 = np.random.uniform(95*i, 10+90*i, size=N_POINTS//4) * np.pi/180\n",
    "    ## угол конца для сектора\n",
    "    phi2 = np.random.uniform(45+90*i, 95*(i+1), size=N_POINTS//4) * np.pi/180\n",
    "    phi = np.vstack((phi1, phi2))\n",
    "    ## merge под формат генератора\n",
    "    phi = np.array([[phi[0,j], phi[1,j]] for j in range(phi.shape[1])])\n",
    "    if i == 0:\n",
    "        PHI = phi\n",
    "    else:\n",
    "        PHI = np.vstack((PHI, phi))\n",
    "\n",
    "## радиус внутреннего круга\n",
    "r1 = np.random.randint(0.0, 1.0, size=N_POINTS)\n",
    "## радиус внешнего круга \n",
    "r2 = np.random.randint(0.2*IMAGE_DIMS[0], 0.23*IMAGE_DIMS[0], size=N_POINTS)\n",
    "r = np.vstack((r1, r2))\n",
    "## merge под формат генератора\n",
    "r = np.array([[r[0,i], r[1,i]] for i in range(r.shape[1])])\n",
    "\n",
    "## X координата старта прямой\n",
    "XC = np.random.randint(0.32*IMAGE_DIMS[0], 0.55*IMAGE_DIMS[0], size=N_POINTS)\n",
    "## Y координата старта прямой\n",
    "YC = np.random.randint(0.32*IMAGE_DIMS[0], 0.55*IMAGE_DIMS[0], size=N_POINTS)\n",
    "\n",
    "## интесивность\n",
    "N = np.random.randint(200, 210, size=N_POINTS)\n",
    "\n",
    "\n",
    "def generator_sky(mode=0):\n",
    "    if mode == 1:\n",
    "        ## генератор для презенташки\n",
    "        df_sky = create_rings(XC, YC, r, PHI, N, pattern_type='Sky', save=True)\n",
    "    elif mode == 0:\n",
    "        ## генератор параллельный\n",
    "        n_workers = cpu_count\n",
    "        results = Parallel(n_workers)(\n",
    "            delayed(create_rings)(XC[i::n_workers], YC[i::n_workers],\n",
    "                                  r[i::n_workers], PHI[i::n_workers],\n",
    "                                  N[i::n_workers], pattern_type='Sky') \n",
    "            for i in range(n_workers))\n",
    "\n",
    "        df_sky = results[0]\n",
    "        for i in range(1, len(results)):\n",
    "            df_sky = pd.concat((df_sky, results[i]), sort=False)\n",
    "        \n",
    "    return df_sky\n",
    "        \n",
    "df_sky = generator_sky(mode=1)"
   ]
  },
  {
   "cell_type": "code",
   "execution_count": 235,
   "metadata": {},
   "outputs": [
    {
     "data": {
      "image/png": "[encoded data removed]",
      "text/plain": [
       "<Figure size 2016x1440 with 10 Axes>"
      ]
     },
     "metadata": {
      "needs_background": "light"
     },
     "output_type": "display_data"
    }
   ],
   "source": [
    "fig, ax = plt.subplots(nrows = 1, ncols = 10, figsize=(28, 20))\n",
    "ax = ax.ravel(order='C')\n",
    "for i in range(10):\n",
    "    ax[i-10].imshow(df_sky.waferMap[i], cmap='inferno')\n",
    "\n",
    "plt.show() "
   ]
  },
  {
   "cell_type": "markdown",
   "metadata": {},
   "source": [
    "## Edge-Ring "
   ]
  },
  {
   "cell_type": "code",
   "execution_count": 24,
   "metadata": {},
   "outputs": [
    {
     "name": "stdout",
     "output_type": "stream",
     "text": [
      "Wall time: 22.9 s\n"
     ]
    }
   ],
   "source": [
    "%%time\n",
    "## число синтезированных карт\n",
    "N_POINTS = 2000\n",
    "\n",
    "PHI = None\n",
    "for i in range(4):\n",
    "    ## угол старта для сектора\n",
    "    phi1 = np.random.uniform(0+90*i, 30+90*i, size=N_POINTS//4) * np.pi/180\n",
    "    ## угол конца для сектора\n",
    "    phi2 = np.random.uniform(320+90*i,\n",
    "                             360*(i+1), size=N_POINTS//4) * np.pi/180\n",
    "    phi = np.vstack((phi1, phi2))\n",
    "    ## merge под формат генератора\n",
    "    phi = np.array([[phi[0,j], phi[1,j]] for j in range(phi.shape[1])])\n",
    "    if i == 0:\n",
    "        PHI = phi\n",
    "    else:\n",
    "        PHI = np.vstack((PHI, phi))\n",
    "\n",
    "center = 0.5*IMAGE_DIMS[0]\n",
    "r1 = np.random.randint(center-4, center-3, size=N_POINTS)\n",
    "r2 = np.random.randint(center, center+1, size=N_POINTS)\n",
    "r = np.vstack((r1, r2))\n",
    "r = np.array([[r[0,i], r[1,i]] for i in range(r.shape[1])])\n",
    "\n",
    "## X координата старта прямой\n",
    "XC = np.random.randint(center-2, center, size=N_POINTS)\n",
    "## Y координата старта прямой\n",
    "YC = np.random.randint(center-2, center, size=N_POINTS)\n",
    "\n",
    "## интесивность\n",
    "N = np.random.randint(200, 210, size=N_POINTS)\n",
    "\n",
    "\n",
    "def generator_edge_ring(mode=0):\n",
    "    if mode == 1:\n",
    "        ## генератор для презенташки\n",
    "        df_edge_ring = create_rings(XC, YC, r, PHI, N, pattern_type='Edge-Ring', save=True)\n",
    "    elif mode == 0:\n",
    "        ## генератор параллельный\n",
    "        n_workers = cpu_count\n",
    "        results = Parallel(n_workers)(\n",
    "            delayed(create_rings)(XC[i::n_workers], YC[i::n_workers],\n",
    "                                  r[i::n_workers], PHI[i::n_workers],\n",
    "                                  N[i::n_workers], pattern_type='Edge-Ring') \n",
    "            for i in range(n_workers))\n",
    "\n",
    "        df_edge_ring = results[0]\n",
    "        for i in range(1, len(results)):\n",
    "            df_edge_ring = pd.concat((df_edge_ring, results[i]), sort=False)\n",
    "            \n",
    "    return df_edge_ring\n",
    "            \n",
    "\n",
    "df_edge_ring = generator_edge_ring(mode=0)"
   ]
  },
  {
   "cell_type": "code",
   "execution_count": 25,
   "metadata": {},
   "outputs": [
    {
     "data": {
      "image/png": "[encoded data removed]",
      "text/plain": [
       "<Figure size 2016x1440 with 10 Axes>"
      ]
     },
     "metadata": {
      "needs_background": "light"
     },
     "output_type": "display_data"
    }
   ],
   "source": [
    "fig, ax = plt.subplots(nrows = 1, ncols = 10, figsize=(28, 20))\n",
    "ax = ax.ravel(order='C')\n",
    "for i in range(10):\n",
    "    ax[i].imshow(df_edge_ring.waferMap.values[i], cmap='inferno')\n",
    "\n",
    "plt.show() "
   ]
  },
  {
   "cell_type": "markdown",
   "metadata": {},
   "source": [
    "## Edge-Loc "
   ]
  },
  {
   "cell_type": "code",
   "execution_count": 26,
   "metadata": {},
   "outputs": [
    {
     "name": "stdout",
     "output_type": "stream",
     "text": [
      "Wall time: 22.7 s\n"
     ]
    }
   ],
   "source": [
    "%%time\n",
    "## число синтезированных карт\n",
    "N_POINTS = 2000\n",
    "\n",
    "PHI = None\n",
    "for i in range(4):\n",
    "    ## угол старта для сектора\n",
    "    phi1 = np.random.uniform(15+90*i, 25+90*i, size=N_POINTS//4) * np.pi/180\n",
    "    ## угол конца для сектора\n",
    "    phi2 = np.random.uniform(55+90*i, 115+90*i, size=N_POINTS//4) * np.pi/180\n",
    "    phi = np.vstack((phi1, phi2))\n",
    "    ## merge под формат генератора\n",
    "    phi = np.array([[phi[0,j], phi[1,j]] for j in range(phi.shape[1])])\n",
    "    if i == 0:\n",
    "        PHI = phi\n",
    "    else:\n",
    "        PHI = np.vstack((PHI, phi))\n",
    "\n",
    "center = 0.5*IMAGE_DIMS[0]\n",
    "r1 = np.random.randint(center-5, center-3, size=N_POINTS)\n",
    "r2 = np.random.randint(center, center+1, size=N_POINTS)\n",
    "r = np.vstack((r1, r2))\n",
    "r = np.array([[r[0,i], r[1,i]] for i in range(r.shape[1])])\n",
    "\n",
    "## X координата старта прямой\n",
    "XC = np.random.randint(center-2, center-1, size=N_POINTS)\n",
    "## Y координата старта прямой\n",
    "YC = np.random.randint(center-2, center-1, size=N_POINTS)\n",
    "\n",
    "## интесивность\n",
    "N = np.random.randint(200, 210, size=N_POINTS)\n",
    "\n",
    "\n",
    "def generator_edge_loc(mode=0):\n",
    "    if mode == 1:\n",
    "        ## генератор для презенташки\n",
    "        df_edge_loc = create_rings(XC, YC, r, PHI, N, pattern_type='Edge-Loc', save=True)\n",
    "    elif mode == 0:\n",
    "        ## генератор параллельный\n",
    "        n_workers = cpu_count\n",
    "        results = Parallel(n_workers)(\n",
    "            delayed(create_rings)(XC[i::n_workers], YC[i::n_workers],\n",
    "                                  r[i::n_workers], PHI[i::n_workers],\n",
    "                                  N[i::n_workers], pattern_type='Edge-Loc') \n",
    "            for i in range(n_workers))\n",
    "\n",
    "        df_edge_loc = results[0]\n",
    "        for i in range(1, len(results)):\n",
    "            df_edge_loc = pd.concat((df_edge_loc, results[i]), sort=False)\n",
    "        \n",
    "    return df_edge_loc\n",
    "            \n",
    "        \n",
    "df_edge_loc = generator_edge_loc(mode=0)"
   ]
  },
  {
   "cell_type": "code",
   "execution_count": 27,
   "metadata": {},
   "outputs": [
    {
     "data": {
      "image/png": "[encoded data removed]",
      "text/plain": [
       "<Figure size 2016x1440 with 10 Axes>"
      ]
     },
     "metadata": {
      "needs_background": "light"
     },
     "output_type": "display_data"
    }
   ],
   "source": [
    "fig, ax = plt.subplots(nrows = 1, ncols = 10, figsize=(28, 20))\n",
    "ax = ax.ravel(order='C')\n",
    "for i in range(10):\n",
    "    ax[i].imshow(df_edge_loc.waferMap.values[i], cmap='inferno')\n",
    "\n",
    "plt.show() "
   ]
  },
  {
   "cell_type": "markdown",
   "metadata": {},
   "source": [
    "## Near-full"
   ]
  },
  {
   "cell_type": "code",
   "execution_count": 28,
   "metadata": {},
   "outputs": [],
   "source": [
    "def create_near_full(N, pattern_type, lam_poisson=1.2, save=False):\n",
    "    df = [None] * N\n",
    "    for n in range(N):\n",
    "        ## создадим тестовый полигон\n",
    "        test = cv2.resize(wafer_map.waferMap, dsize=(IMAGE_DIMS[0],IMAGE_DIMS[1]), \n",
    "                  interpolation=cv2.INTER_NEAREST) \n",
    "        ## 2 - паттерн\n",
    "        ## 1 - фон\n",
    "        ## 0 - область, где нет ничего\n",
    "        test[test == 2] = 1\n",
    "        COLOR_SCALE = 5\n",
    "\n",
    "        ## внесем шум\n",
    "        noise_img = test.copy()\n",
    "        mask = np.random.randint(0, 2, size=noise_img.shape).astype(np.bool)\n",
    "        mask[noise_img == 0] = False\n",
    "        r = np.random.poisson(lam=lam_poisson, size=noise_img.shape)\n",
    "        # нормировка на шумы\n",
    "        # r = np.around(r//np.max(r))\n",
    "        r[r==0] = 1\n",
    "        r[r==1] = 2\n",
    "        r[r>2] = 1\n",
    "        noise_img[mask] = r[mask]\n",
    "        \n",
    "\n",
    "        ## сверткой расширим\n",
    "        kernel = np.ones((3,3), np.uint8)\n",
    "        kernel = np.array([[0, 1, 0], [1, 1, 1], [0, 1, 0]], dtype=np.uint8)\n",
    "        noise_img = cv2.morphologyEx(noise_img, cv2.MORPH_CLOSE, kernel)\n",
    "        noise_img = cv2.erode(noise_img,kernel,iterations = 1)\n",
    "\n",
    "        df[n] = [noise_img, pattern_type]\n",
    "        \n",
    "        ## для презенташки\n",
    "        if save==True:\n",
    "            path = 'output/test_classes/{}'.format(pattern_type)\n",
    "            try:\n",
    "                os.mkdir(path)\n",
    "            except OSError:\n",
    "                pass\n",
    "            plt.imshow(noise_img, cmap='inferno')\n",
    "            name = '/{}{}.jpg'.format(pattern_type,n)\n",
    "            plt.savefig(path+name)\n",
    "        \n",
    "    return pd.DataFrame(df, columns=['waferMap', 'failureType'])"
   ]
  },
  {
   "cell_type": "code",
   "execution_count": 29,
   "metadata": {},
   "outputs": [
    {
     "name": "stdout",
     "output_type": "stream",
     "text": [
      "Wall time: 1.23 s\n"
     ]
    }
   ],
   "source": [
    "%%time\n",
    "## число синтезированных карт\n",
    "N_POINTS = 2000\n",
    "df_near_full = create_near_full(N_POINTS, pattern_type='Near-full', lam_poisson=1.3)"
   ]
  },
  {
   "cell_type": "code",
   "execution_count": 30,
   "metadata": {},
   "outputs": [
    {
     "data": {
      "image/png": "[encoded data removed]",
      "text/plain": [
       "<Figure size 2016x1440 with 10 Axes>"
      ]
     },
     "metadata": {
      "needs_background": "light"
     },
     "output_type": "display_data"
    }
   ],
   "source": [
    "fig, ax = plt.subplots(nrows = 1, ncols = 10, figsize=(28, 20))\n",
    "ax = ax.ravel(order='C')\n",
    "for i in range(10):\n",
    "    ax[i].imshow(df_near_full.waferMap.values[i], cmap='inferno')\n",
    "\n",
    "plt.show() "
   ]
  },
  {
   "cell_type": "markdown",
   "metadata": {},
   "source": [
    "## Random"
   ]
  },
  {
   "cell_type": "code",
   "execution_count": 33,
   "metadata": {},
   "outputs": [],
   "source": [
    "def create_random(N, pattern_type, lam_poisson=1.2, save=False):\n",
    "    df = [None] * N\n",
    "    for n in range(N):\n",
    "        ## создадим тестовый полигон\n",
    "        test = cv2.resize(wafer_map.waferMap, dsize=(IMAGE_DIMS[0],IMAGE_DIMS[1]), \n",
    "                  interpolation=cv2.INTER_NEAREST) \n",
    "        ## 2 - паттерн\n",
    "        ## 1 - фон\n",
    "        ## 0 - область, где нет ничего\n",
    "        test[test == 2] = 1\n",
    "        COLOR_SCALE = 5\n",
    "\n",
    "        ## внесем шум\n",
    "        noise_img = test.copy()\n",
    "        mask = np.random.randint(0, 2, size=noise_img.shape).astype(np.bool)\n",
    "        mask[noise_img == 0] = False\n",
    "        r = np.random.poisson(lam=lam_poisson, size=noise_img.shape)\n",
    "        # нормировка на шумы\n",
    "        # r = np.around(r//np.max(r))\n",
    "        r[r==0] = 1\n",
    "        r[r>2] = 2\n",
    "        noise_img[mask] = r[mask]\n",
    "        \n",
    "\n",
    "        ## сверткой расширим\n",
    "        kernel = np.ones((3,3), np.uint8)\n",
    "        kernel = np.array([[0, 1, 0], [1, 1, 1], [0, 1, 0]], dtype=np.uint8)\n",
    "        noise_img = cv2.morphologyEx(noise_img, cv2.MORPH_CLOSE, kernel)\n",
    "        noise_img = cv2.erode(noise_img,kernel,iterations = 1)\n",
    "\n",
    "        df[n] = [noise_img, pattern_type]\n",
    "        \n",
    "        ## для презенташки\n",
    "        if save==True:\n",
    "            path = 'output/test_classes/{}'.format(pattern_type)\n",
    "            try:\n",
    "                os.mkdir(path)\n",
    "            except OSError:\n",
    "                pass\n",
    "            plt.imshow(noise_img, cmap='inferno')\n",
    "            name = '/{}{}.jpg'.format(pattern_type,n)\n",
    "            plt.savefig(path+name)\n",
    "        \n",
    "    return pd.DataFrame(df, columns=['waferMap', 'failureType'])"
   ]
  },
  {
   "cell_type": "code",
   "execution_count": 34,
   "metadata": {},
   "outputs": [
    {
     "name": "stdout",
     "output_type": "stream",
     "text": [
      "Wall time: 1.26 s\n"
     ]
    }
   ],
   "source": [
    "%%time\n",
    "## число синтезированных карт\n",
    "N_POINTS = 2000\n",
    "df_random = create_random(N_POINTS, pattern_type='Random', lam_poisson=2.1)"
   ]
  },
  {
   "cell_type": "code",
   "execution_count": 35,
   "metadata": {},
   "outputs": [
    {
     "data": {
      "image/png": "[encoded data removed]",
      "text/plain": [
       "<Figure size 2016x1440 with 10 Axes>"
      ]
     },
     "metadata": {
      "needs_background": "light"
     },
     "output_type": "display_data"
    }
   ],
   "source": [
    "fig, ax = plt.subplots(nrows = 1, ncols = 10, figsize=(28, 20))\n",
    "ax = ax.ravel(order='C')\n",
    "for i in range(10):\n",
    "    ax[i].imshow(df_random.waferMap.values[i], cmap='inferno')\n",
    "\n",
    "plt.show() "
   ]
  },
  {
   "cell_type": "markdown",
   "metadata": {},
   "source": [
    "## Объеденить все классы и сохранить"
   ]
  },
  {
   "cell_type": "code",
   "execution_count": 36,
   "metadata": {},
   "outputs": [
    {
     "name": "stdout",
     "output_type": "stream",
     "text": [
      "<class 'pandas.core.frame.DataFrame'>\n",
      "Int64Index: 16000 entries, 0 to 61\n",
      "Data columns (total 3 columns):\n",
      "waferMap       16000 non-null object\n",
      "failureType    16000 non-null object\n",
      "failureNum     16000 non-null int64\n",
      "dtypes: int64(1), object(2)\n",
      "memory usage: 500.0+ KB\n"
     ]
    }
   ],
   "source": [
    "df = pd.concat([df_center, df_donut, df_edge_loc,\n",
    "               df_edge_ring, df_loc, df_near_full,\n",
    "               df_random, df_scratch_curved], sort=False)\n",
    "\n",
    "mapping_type={'Center':0,'Donut':1,'Edge-Loc':2,\n",
    "              'Edge-Ring':3,'Loc':4,'Random':5,\n",
    "              'Scratch':6,'Near-full':7}\n",
    "\n",
    "df['failureNum'] = df.failureType\n",
    "df = df.replace({'failureNum':mapping_type})\n",
    "\n",
    "df.info()"
   ]
  },
  {
   "cell_type": "code",
   "execution_count": 37,
   "metadata": {},
   "outputs": [
    {
     "name": "stdout",
     "output_type": "stream",
     "text": [
      "Loc\n",
      "4\n"
     ]
    },
    {
     "data": {
      "image/png": "[encoded data removed]",
      "text/plain": [
       "<Figure size 432x288 with 1 Axes>"
      ]
     },
     "metadata": {
      "needs_background": "light"
     },
     "output_type": "display_data"
    }
   ],
   "source": [
    "df.to_pickle('output/syntesis_df_1')\n",
    "\n",
    "n = 9556\n",
    "plt.imshow(df.waferMap.values[n],cmap='inferno')\n",
    "print(df.failureType.values[n])\n",
    "print(df.failureNum.values[n])"
   ]
  },
  {
   "cell_type": "markdown",
   "metadata": {},
   "source": [
    "## Проверка"
   ]
  },
  {
   "cell_type": "code",
   "execution_count": 40,
   "metadata": {},
   "outputs": [],
   "source": [
    "df_test = pd.read_pickle('output/syntesis_df_1')"
   ]
  },
  {
   "cell_type": "code",
   "execution_count": 41,
   "metadata": {},
   "outputs": [
    {
     "name": "stdout",
     "output_type": "stream",
     "text": [
      "Edge-Loc\n"
     ]
    },
    {
     "data": {
      "image/png": "[encoded data removed]",
      "text/plain": [
       "<Figure size 432x288 with 1 Axes>"
      ]
     },
     "metadata": {
      "needs_background": "light"
     },
     "output_type": "display_data"
    }
   ],
   "source": [
    "n = 4531\n",
    "plt.imshow(df_test.waferMap.values[n],cmap='inferno')\n",
    "print(df_test.failureType.values[n])"
   ]
  },
  {
   "cell_type": "markdown",
   "metadata": {},
   "source": [
    "## Параллельное вычисление карт тест"
   ]
  },
  {
   "cell_type": "code",
   "execution_count": 409,
   "metadata": {},
   "outputs": [
    {
     "name": "stdout",
     "output_type": "stream",
     "text": [
      "Wall time: 7.98 ms\n"
     ]
    }
   ],
   "source": [
    "%%time\n",
    "## число синтезированных карт\n",
    "N_POINTS = 2000\n",
    "\n",
    "PHI = None\n",
    "for i in range(4):\n",
    "    ## угол старта для сектора\n",
    "    phi1 = np.random.uniform(95*i, 10+90*i, size=N_POINTS//4) * np.pi/180\n",
    "    ## угол конца для сектора\n",
    "    phi2 = np.random.uniform(45+90*i, 95*(i+1), size=N_POINTS//4) * np.pi/180\n",
    "    phi = np.vstack((phi1, phi2))\n",
    "    ## merge под формат генератора\n",
    "    phi = np.array([[phi[0,j], phi[1,j]] for j in range(phi.shape[1])])\n",
    "    if i == 0:\n",
    "        PHI = phi\n",
    "    else:\n",
    "        PHI = np.vstack((PHI, phi))\n",
    "\n",
    "## радиус внутреннего круга\n",
    "r1 = np.random.randint(0.0*IMAGE_DIMS[0], 0.05*IMAGE_DIMS[0], size=N_POINTS)\n",
    "## радиус внешнего круга \n",
    "r2 = np.random.randint(0.2*IMAGE_DIMS[0], 0.23*IMAGE_DIMS[0], size=N_POINTS)\n",
    "r = np.vstack((r1, r2))\n",
    "## merge под формат генератора\n",
    "r = np.array([[r[0,i], r[1,i]] for i in range(r.shape[1])])\n",
    "\n",
    "## X координата старта прямой\n",
    "XC = np.random.randint(0.48*IMAGE_DIMS[0], 0.52*IMAGE_DIMS[0], size=N_POINTS)\n",
    "## Y координата старта прямой\n",
    "YC = np.random.randint(0.48*IMAGE_DIMS[0], 0.52*IMAGE_DIMS[0], size=N_POINTS)\n",
    "\n",
    "## интесивность\n",
    "N = np.random.randint(200, 210, size=N_POINTS)\n",
    "\n",
    "## генератор параллельный\n",
    "n_workers = cpu_count\n",
    "results = Parallel(n_workers)(\n",
    "    delayed(create_rings)(XC[i::n_workers], YC[i::n_workers],\n",
    "                          r[i::n_workers], PHI[i::n_workers],\n",
    "                          N[i::n_workers], pattern_type='Center') \n",
    "    for i in range(n_workers))\n",
    "\n",
    "df_center = results[0]\n",
    "for i in range(1, len(results)):\n",
    "    df_center = pd.concat((df_center, results[i]), sort=False)"
   ]
  },
  {
   "cell_type": "code",
   "execution_count": 424,
   "metadata": {},
   "outputs": [
    {
     "data": {
      "image/png": "[encoded data removed]",
      "text/plain": [
       "<Figure size 2016x1440 with 10 Axes>"
      ]
     },
     "metadata": {
      "needs_background": "light"
     },
     "output_type": "display_data"
    }
   ],
   "source": [
    "fig, ax = plt.subplots(nrows = 1, ncols = 10, figsize=(28, 20))\n",
    "ax = ax.ravel(order='C')\n",
    "for i in range(10):\n",
    "    ax[i].imshow(df_center.waferMap.values[i], cmap='inferno')\n",
    "\n",
    "plt.show() "
   ]
  },
  {
   "cell_type": "code",
   "execution_count": null,
   "metadata": {},
   "outputs": [],
   "source": []
  },
  {
   "cell_type": "code",
   "execution_count": null,
   "metadata": {},
   "outputs": [],
   "source": []
  },
  {
   "cell_type": "code",
   "execution_count": null,
   "metadata": {},
   "outputs": [],
   "source": []
  },
  {
   "cell_type": "code",
   "execution_count": null,
   "metadata": {},
   "outputs": [],
   "source": []
  }
 ],
 "metadata": {
  "kernelspec": {
   "display_name": "Python 3",
   "language": "python",
   "name": "python3"
  },
  "language_info": {
   "codemirror_mode": {
    "name": "ipython",
    "version": 3
   },
   "file_extension": ".py",
   "mimetype": "text/x-python",
   "name": "python",
   "nbconvert_exporter": "python",
   "pygments_lexer": "ipython3",
   "version": "3.6.7"
  }
 },
 "nbformat": 4,
 "nbformat_minor": 2
}
