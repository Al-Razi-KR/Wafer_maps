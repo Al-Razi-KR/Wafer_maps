{
 "cells": [
  {
   "cell_type": "code",
   "execution_count": 6,
   "metadata": {},
   "outputs": [],
   "source": [
    "import numpy as np \n",
    "import pandas as pd \n",
    "import matplotlib.pyplot as plt \n",
    "import os\n",
    "import cv2\n",
    "import math\n",
    "import random\n",
    "\n",
    "%matplotlib inline "
   ]
  },
  {
   "cell_type": "markdown",
   "metadata": {},
   "source": [
    "## Загрузка шаблона карты"
   ]
  },
  {
   "cell_type": "code",
   "execution_count": 7,
   "metadata": {},
   "outputs": [
    {
     "data": {
      "image/png": "[encoded data removed]",
      "text/plain": [
       "<Figure size 432x288 with 1 Axes>"
      ]
     },
     "metadata": {
      "needs_background": "light"
     },
     "output_type": "display_data"
    }
   ],
   "source": [
    "wafer_map = pd.read_pickle('test_wafer_map.pkl')\n",
    "test = cv2.resize(wafer_map.waferMap, dsize=(92,92), interpolation=cv2.INTER_NEAREST) \n",
    "\n",
    "## 2 - паттерн\n",
    "## 1 - фон\n",
    "## 0 - область, где нет ничего\n",
    "test[test == 2] = 1\n",
    "\n",
    "## проверка\n",
    "plt.imshow(test);"
   ]
  },
  {
   "cell_type": "markdown",
   "metadata": {},
   "source": [
    "# Генератор пилообразных прямых "
   ]
  },
  {
   "cell_type": "code",
   "execution_count": 8,
   "metadata": {},
   "outputs": [],
   "source": [
    "def sawtooth_line(XC_, YC_, L0_, angle_, line_count, pattern_type, lam_poisson=0.2):\n",
    "    size = XC_.shape[0]\n",
    "    df = [None] * size\n",
    "    \n",
    "    for n in range(size):   \n",
    "        # иниицализация параметров прямой\n",
    "        L0 = L0_[n]\n",
    "        XC = XC_[n]\n",
    "        YC = YC_[n]\n",
    "        angle = angle_[n]\n",
    "        ## создадим тестовый полигон\n",
    "        test = cv2.resize(wafer_map.waferMap, dsize=(92,92), interpolation=cv2.INTER_NEAREST) \n",
    "        ## 2 - паттерн\n",
    "        ## 1 - фон\n",
    "        ## 0 - область, где нет ничего\n",
    "        test[test == 2] = 1\n",
    "        COLOR_SCALE = 2\n",
    "\n",
    "        ## параметры уравнения\n",
    "        def delta_(x,y):\n",
    "            return int(math.sqrt(x**2 + y**2))\n",
    "        delta = np.vectorize(delta_)\n",
    "\n",
    "        L = L0 - np.sum(delta(XC, YC)[1:])\n",
    "        N = 200\n",
    "        x0, y0 = 0, 0\n",
    "\n",
    "        ## кусочное построение пилообразной прямой \n",
    "        for i in range(line_count):\n",
    "            ## случайное удлинение или укорочение отрезка\n",
    "            import random\n",
    "            rand = random.randint(-1,0)\n",
    "            scale = 0.4\n",
    "            t = np.linspace(0, L//(line_count + rand*scale), N)\n",
    "\n",
    "            xc = XC[i]\n",
    "            yc = YC[i]\n",
    "            X = np.cos(angle[i]) * t + xc + x0\n",
    "            Y = np.sin(angle[i]) * t + yc + y0\n",
    "            X_ = np.around(X)\n",
    "            Y_ = np.around(Y)\n",
    "\n",
    "            x_prev, y_prev = x0, y0\n",
    "\n",
    "            for j in range(X_.shape[0]):\n",
    "                x = int(X_[j])\n",
    "                y = int(Y_[j])\n",
    "                if j == 0:\n",
    "                    ## первая точка прямой \n",
    "                    x_first, y_first = x, y\n",
    "\n",
    "                try:\n",
    "                    if test[x,y] == 1:\n",
    "                        test[x,y] = COLOR_SCALE\n",
    "                        x0, y0 = x, y\n",
    "                except IndexError:\n",
    "                    break\n",
    "\n",
    "\n",
    "            ## сшивка прямых        \n",
    "            if i != 0:\n",
    "                ## уравнение прямой сшивки\n",
    "                k = (y_prev - y_first) / (x_prev - x_first+1e-06)\n",
    "                b = y_first - k*x_first\n",
    "                X = np.linspace(x_prev, x_first, 20)\n",
    "                Y = k * X + b\n",
    "                X_ = np.around(X)\n",
    "                Y_ = np.around(Y)\n",
    "                for j in range(X_.shape[0]):\n",
    "                    x = int(X_[j])\n",
    "                    y = int(Y_[j])\n",
    "                    try:\n",
    "                        if test[x,y] == 1:\n",
    "                            test[x,y] = COLOR_SCALE\n",
    "                    except IndexError:\n",
    "                        break\n",
    "\n",
    "        is_dilate = random.randint(-1,1)\n",
    "        if is_dilate == 1:\n",
    "            ## сверткой расширим\n",
    "            kernel = np.ones((3,3), np.uint8)\n",
    "            kernel = np.array([[0, 1, 0], [1, 1, 1], [0, 1, 0]], dtype=np.uint8)\n",
    "            test = cv2.dilate(test,kernel,iterations = 3)\n",
    "            test = cv2.morphologyEx(test, cv2.MORPH_CLOSE, kernel)\n",
    "            \n",
    "\n",
    "        noise_img = test.copy()\n",
    "        mask = np.random.randint(0, 2, size=noise_img.shape).astype(np.bool)\n",
    "        mask[noise_img == 0] = False\n",
    "        r = np.random.poisson(lam=lam_poisson, size=noise_img.shape)\n",
    "        r[r==0] = 1\n",
    "        r[r>2] = 2\n",
    "        noise_img[mask] = r[mask]\n",
    "        \n",
    "        is_morph_close = random.randint(0,1)\n",
    "        if is_morph_close == 1:\n",
    "            ## сверткой расширим\n",
    "            kernel = np.ones((3,3), np.uint8)\n",
    "            kernel = np.array([[0, 1, 0], [1, 1, 1], [0, 1, 0]], dtype=np.uint8)\n",
    "            noise_img = cv2.morphologyEx(noise_img, cv2.MORPH_CLOSE, kernel)\n",
    "\n",
    "        df[n] = [noise_img, pattern_type]\n",
    "        \n",
    "    return pd.DataFrame(df, columns=['waferMap', 'failureType'])"
   ]
  },
  {
   "cell_type": "markdown",
   "metadata": {},
   "source": [
    "# Генерация кривых"
   ]
  },
  {
   "cell_type": "markdown",
   "metadata": {},
   "source": [
    "## Пилообразные прямые "
   ]
  },
  {
   "cell_type": "code",
   "execution_count": 11,
   "metadata": {},
   "outputs": [
    {
     "name": "stdout",
     "output_type": "stream",
     "text": [
      "<class 'pandas.core.frame.DataFrame'>\n",
      "RangeIndex: 2000 entries, 0 to 1999\n",
      "Data columns (total 2 columns):\n",
      "waferMap       2000 non-null object\n",
      "failureType    2000 non-null object\n",
      "dtypes: object(2)\n",
      "memory usage: 31.3+ KB\n",
      "Wall time: 2.78 s\n"
     ]
    }
   ],
   "source": [
    "%%time\n",
    "\n",
    "N_POINT = 2000\n",
    "\n",
    "L0 = np.random.randint(40, 55, size=N_POINT)\n",
    "\n",
    "XC = np.random.randint(46, 70, size=N_POINT)\n",
    "delta_xc = np.random.randint(3, 10, size=N_POINT)\n",
    "np.random.shuffle(delta_xc)\n",
    "XC = np.vstack((XC, delta_xc))\n",
    "xc = np.array([[XC[0,i], XC[1,i]] for i in range(XC.shape[1])])\n",
    "\n",
    "YC = np.random.randint(46, 70, size=N_POINT)\n",
    "delta_yc = np.random.randint(-8, -5, size=N_POINT)\n",
    "np.random.shuffle(delta_yc)\n",
    "YC = np.vstack((YC, delta_yc))\n",
    "yc = np.array([[YC[0,i], YC[1,i]] for i in range(YC.shape[1])])\n",
    "\n",
    "angle1 = np.random.randint(-130, -90, size=N_POINT) * np.pi/180\n",
    "angle2 = np.random.randint(-130, -100, size=N_POINT) * np.pi/180\n",
    "angle = np.vstack((angle1, angle2))\n",
    "angle = np.array([[angle[0,i], angle[1,i]] for i in range(angle.shape[1])])\n",
    "\n",
    "df_scratch_curved = sawtooth_line(xc, yc, L0, angle, pattern_type='Curved-Scratch', line_count=2)\n",
    "df_scratch_curved.info()"
   ]
  },
  {
   "cell_type": "code",
   "execution_count": 12,
   "metadata": {},
   "outputs": [
    {
     "data": {
      "image/png": "[encoded data removed]",
      "text/plain": [
       "<Figure size 2016x1440 with 10 Axes>"
      ]
     },
     "metadata": {
      "needs_background": "light"
     },
     "output_type": "display_data"
    }
   ],
   "source": [
    "fig, ax = plt.subplots(nrows = 1, ncols = 10, figsize=(28, 20))\n",
    "ax = ax.ravel(order='C')\n",
    "for i in range(10, 20):\n",
    "    ax[i-10].imshow(df_scratch_curved.waferMap[i], cmap='inferno')\n",
    "\n",
    "plt.show() "
   ]
  },
  {
   "cell_type": "markdown",
   "metadata": {},
   "source": [
    "## Прмые линии "
   ]
  },
  {
   "cell_type": "code",
   "execution_count": 13,
   "metadata": {},
   "outputs": [
    {
     "name": "stdout",
     "output_type": "stream",
     "text": [
      "<class 'pandas.core.frame.DataFrame'>\n",
      "RangeIndex: 2000 entries, 0 to 1999\n",
      "Data columns (total 2 columns):\n",
      "waferMap       2000 non-null object\n",
      "failureType    2000 non-null object\n",
      "dtypes: object(2)\n",
      "memory usage: 31.3+ KB\n",
      "Wall time: 2.81 s\n"
     ]
    }
   ],
   "source": [
    "%%time\n",
    "\n",
    "N_POINT = 2000\n",
    "\n",
    "L0 = np.random.randint(40, 55, size=N_POINT)\n",
    "\n",
    "XC = np.random.randint(46, 70, size=N_POINT)\n",
    "delta_xc = np.zeros(N_POINT)\n",
    "XC = np.vstack((XC, delta_xc))\n",
    "xc = np.array([[XC[0,i], XC[1,i]] for i in range(XC.shape[1])])\n",
    "\n",
    "YC = np.random.randint(46, 70, size=N_POINT)\n",
    "delta_yc = np.zeros(N_POINT)\n",
    "YC = np.vstack((YC, delta_yc))\n",
    "yc = np.array([[YC[0,i], YC[1,i]] for i in range(YC.shape[1])])\n",
    "\n",
    "angle1 = np.random.randint(-130, -90, size=N_POINT) * np.pi/180\n",
    "angle = np.vstack((angle1, angle1))\n",
    "angle = np.array([[angle[0,i], angle[1,i]] for i in range(angle.shape[1])])\n",
    "\n",
    "df_scratch = sawtooth_line(xc, yc, L0, angle, pattern_type='Scratch', line_count=2)\n",
    "df_scratch.info()"
   ]
  },
  {
   "cell_type": "markdown",
   "metadata": {},
   "source": [
    "# Генератор колец "
   ]
  },
  {
   "cell_type": "code",
   "execution_count": 14,
   "metadata": {},
   "outputs": [],
   "source": [
    "def create_rings(XC, YC, R_, PHI, N, pattern_type, lam_poisson=1.2):\n",
    "    size = XC.shape[0]\n",
    "    df = [None] * size\n",
    "    \n",
    "    for n in range(size):\n",
    "        ## параметры кольца\n",
    "        phi = np.linspace(PHI[n][0], PHI[n][1], N[n])\n",
    "        r = np.linspace(R_[n][0], R_[n][1], N[n])\n",
    "        xc = XC[n]\n",
    "        yc = YC[n]\n",
    "\n",
    "        ## синтез сетки\n",
    "        R, Fi = np.meshgrid(r, phi)\n",
    "        X = R*(np.cos(Fi)) + xc\n",
    "        Y = R*(np.sin(Fi)) + yc\n",
    "        X_ = np.around(X)\n",
    "        Y_ = np.around(Y)\n",
    "\n",
    "        ## индексы для полигона\n",
    "        points = []\n",
    "        for i in range(X_.shape[0]):\n",
    "            for j in range(X_.shape[1]):\n",
    "                x = X_[i,j]\n",
    "                y = Y_[i,j]\n",
    "                points.append((x,y))\n",
    "\n",
    "        ## создадим тестовый полигон\n",
    "        test = cv2.resize(wafer_map.waferMap, dsize=(92,92), interpolation=cv2.INTER_NEAREST) \n",
    "        ## 2 - паттерн\n",
    "        ## 1 - фон\n",
    "        ## 0 - область, где нет ничего\n",
    "        test[test == 2] = 1\n",
    "        COLOR_SCALE = 2\n",
    "        \n",
    "        \n",
    "        for idx in points:\n",
    "            i, j = idx\n",
    "            i = int(round(i))\n",
    "            j = int(round(j))\n",
    "            try:\n",
    "                if test[i,j] == 1:\n",
    "                    test[i,j] = COLOR_SCALE\n",
    "            except IndexError:\n",
    "                break\n",
    "                \n",
    "        \n",
    "        is_dilate = random.randint(-1,1)\n",
    "        if is_dilate == 1:\n",
    "            ## сверткой расширим\n",
    "            kernel = np.ones((3,3), np.uint8)\n",
    "            kernel = np.array([[0, 1, 0], [1, 1, 1], [0, 1, 0]], dtype=np.uint8)\n",
    "            test = cv2.dilate(test,kernel,iterations = 3)\n",
    "            test = cv2.morphologyEx(test, cv2.MORPH_CLOSE, kernel)\n",
    "\n",
    "\n",
    "        ## внесем шум\n",
    "        noise_img = test.copy()\n",
    "        mask = np.random.randint(0, 2, size=noise_img.shape).astype(np.bool)\n",
    "        mask[noise_img == 0] = False\n",
    "        r = np.random.poisson(lam=lam_poisson, size=noise_img.shape)\n",
    "        # нормировка на шумы\n",
    "        # r = np.around(r//np.max(r))\n",
    "        r[r==0] = 1\n",
    "        r[r>2] = 2\n",
    "        noise_img[mask] = r[mask]\n",
    "        \n",
    "\n",
    "        ## сверткой расширим\n",
    "        kernel = np.ones((3,3), np.uint8)\n",
    "        kernel = np.array([[0, 1, 0], [1, 1, 1], [0, 1, 0]], dtype=np.uint8)\n",
    "        noise_img = cv2.morphologyEx(noise_img, cv2.MORPH_CLOSE, kernel)\n",
    "        noise_img = cv2.erode(noise_img,kernel,iterations = 1)\n",
    "        \n",
    "        df[n] = [noise_img, pattern_type]\n",
    "        \n",
    "    return pd.DataFrame(df, columns=['waferMap', 'failureType'])\n"
   ]
  },
  {
   "cell_type": "markdown",
   "metadata": {},
   "source": [
    "## Rings"
   ]
  },
  {
   "cell_type": "code",
   "execution_count": 15,
   "metadata": {},
   "outputs": [
    {
     "name": "stdout",
     "output_type": "stream",
     "text": [
      "<class 'pandas.core.frame.DataFrame'>\n",
      "RangeIndex: 2000 entries, 0 to 1999\n",
      "Data columns (total 2 columns):\n",
      "waferMap       2000 non-null object\n",
      "failureType    2000 non-null object\n",
      "dtypes: object(2)\n",
      "memory usage: 31.3+ KB\n",
      "Wall time: 6min 28s\n"
     ]
    }
   ],
   "source": [
    "%%time\n",
    "\n",
    "N_POINTS = 2000\n",
    "\n",
    "PHI1 = np.random.uniform(0, 120, size=N_POINTS) * np.pi/180\n",
    "PHI2 = np.random.uniform(250, 360, size=N_POINTS) * np.pi/180\n",
    "PHI = np.vstack((PHI1, PHI2))\n",
    "PHI = np.array([[PHI[0,i], PHI[1,i]] for i in range(PHI.shape[1])])\n",
    "\n",
    "r1 = np.random.randint(18, 20, size=N_POINTS)\n",
    "r2 = np.random.randint(20, 25, size=N_POINTS)\n",
    "r = np.vstack((r1, r2))\n",
    "r = np.array([[r[0,i], r[1,i]] for i in range(r.shape[1])])\n",
    "\n",
    "XC = np.random.randint(30, 50 , size=N_POINTS)\n",
    "YC = np.random.randint(30, 50, size=N_POINTS)\n",
    "\n",
    "## интесивность\n",
    "N = np.random.randint(200, 210, size=N_POINTS)\n",
    "\n",
    "df_donut = create_rings(XC, YC, r, PHI, N, pattern_type='Donut')\n",
    "df_donut.info()"
   ]
  },
  {
   "cell_type": "markdown",
   "metadata": {},
   "source": [
    "## Loc "
   ]
  },
  {
   "cell_type": "code",
   "execution_count": null,
   "metadata": {},
   "outputs": [],
   "source": [
    "%%time\n",
    "\n",
    "N_POINTS = 2000\n",
    "\n",
    "PHI1 = np.random.uniform(300, 310, size=N_POINTS) * np.pi/180\n",
    "PHI2 = np.random.uniform(340, 370, size=N_POINTS) * np.pi/180\n",
    "PHI = np.vstack((PHI1, PHI2))\n",
    "PHI = np.array([[PHI[0,i], PHI[1,i]] for i in range(PHI.shape[1])])\n",
    "\n",
    "r1 = np.random.randint(20, 23, size=N_POINTS)\n",
    "r2 = np.random.randint(30, 33, size=N_POINTS)\n",
    "r = np.vstack((r1, r2))\n",
    "r = np.array([[r[0,i], r[1,i]] for i in range(r.shape[1])])\n",
    "\n",
    "XC = np.random.randint(25, 65 , size=N_POINTS)\n",
    "YC = np.random.randint(25, 65, size=N_POINTS)\n",
    "\n",
    "## интесивность\n",
    "N = np.random.randint(200, 210, size=N_POINTS)\n",
    "\n",
    "df_loc = create_rings(XC, YC, r, PHI, N, pattern_type='Loc')\n",
    "df_loc.info()"
   ]
  },
  {
   "cell_type": "markdown",
   "metadata": {},
   "source": [
    "## Center "
   ]
  },
  {
   "cell_type": "code",
   "execution_count": null,
   "metadata": {},
   "outputs": [],
   "source": [
    "%%time\n",
    "\n",
    "N_POINTS = 2000\n",
    "\n",
    "PHI1 = np.random.uniform(0, 10, size=N_POINTS) * np.pi/180\n",
    "PHI2 = np.random.uniform(45, 80, size=N_POINTS) * np.pi/180\n",
    "PHI = np.vstack((PHI1, PHI2))\n",
    "PHI = np.array([[PHI[0,i], PHI[1,i]] for i in range(PHI.shape[1])])\n",
    "\n",
    "r1 = np.random.randint(0, 1, size=N_POINTS)\n",
    "r2 = np.random.randint(15, 22, size=N_POINTS)\n",
    "r = np.vstack((r1, r2))\n",
    "r = np.array([[r[0,i], r[1,i]] for i in range(r.shape[1])])\n",
    "\n",
    "XC = np.random.randint(42, 48, size=N_POINTS)\n",
    "YC = np.random.randint(42, 48, size=N_POINTS)\n",
    "\n",
    "df_center = create_rings(XC, YC, r, PHI, N, pattern_type='Center')\n",
    "df_center.info()"
   ]
  },
  {
   "cell_type": "code",
   "execution_count": null,
   "metadata": {},
   "outputs": [],
   "source": []
  },
  {
   "cell_type": "markdown",
   "metadata": {},
   "source": [
    "## Random sky"
   ]
  },
  {
   "cell_type": "code",
   "execution_count": 260,
   "metadata": {},
   "outputs": [
    {
     "name": "stdout",
     "output_type": "stream",
     "text": [
      "<class 'pandas.core.frame.DataFrame'>\n",
      "RangeIndex: 2000 entries, 0 to 1999\n",
      "Data columns (total 2 columns):\n",
      "waferMap       2000 non-null object\n",
      "failureType    2000 non-null object\n",
      "dtypes: object(2)\n",
      "memory usage: 31.3+ KB\n",
      "Wall time: 6min 10s\n"
     ]
    }
   ],
   "source": [
    "%%time\n",
    "\n",
    "N_POINTS = 2000\n",
    "\n",
    "PHI1 = np.random.uniform(70, 80, size=N_POINTS) * np.pi/180\n",
    "PHI2 = np.random.uniform(84, 112, size=N_POINTS) * np.pi/180\n",
    "PHI = np.vstack((PHI1, PHI2))\n",
    "PHI = np.array([[PHI[0,i], PHI[1,i]] for i in range(PHI.shape[1])])\n",
    "\n",
    "r1 = np.random.randint(0, 2, size=N_POINTS)\n",
    "r2 = np.random.randint(10, 17, size=N_POINTS)\n",
    "r = np.vstack((r1, r2))\n",
    "r = np.array([[r[0,i], r[1,i]] for i in range(r.shape[1])])\n",
    "\n",
    "XC = np.random.randint(25, 65, size=N_POINTS)\n",
    "YC = np.random.randint(25, 65, size=N_POINTS)\n",
    "\n",
    "## интесивность\n",
    "N = np.random.randint(200, 210, size=N_POINTS)\n",
    "\n",
    "df_sky = create_rings(XC, YC, r, PHI, N, pattern_type='Sky')\n",
    "df_sky.info()"
   ]
  },
  {
   "cell_type": "markdown",
   "metadata": {},
   "source": [
    "## Edge-Ring "
   ]
  },
  {
   "cell_type": "code",
   "execution_count": null,
   "metadata": {},
   "outputs": [],
   "source": [
    "%%time\n",
    "\n",
    "N_POINTS = 2000\n",
    "\n",
    "PHI1 = np.random.uniform(0, 90, size=N_POINTS) * np.pi/180\n",
    "PHI2 = np.random.uniform(210, 360, size=N_POINTS) * np.pi/180\n",
    "PHI = np.vstack((PHI1, PHI2))\n",
    "PHI = np.array([[PHI[0,i], PHI[1,i]] for i in range(PHI.shape[1])])\n",
    "\n",
    "r1 = np.random.randint(42, 43, size=N_POINTS)\n",
    "r2 = np.random.randint(45, 46, size=N_POINTS)\n",
    "r = np.vstack((r1, r2))\n",
    "r = np.array([[r[0,i], r[1,i]] for i in range(r.shape[1])])\n",
    "\n",
    "XC = np.random.randint(44, 45 , size=N_POINTS)\n",
    "YC = np.random.randint(44, 45, size=N_POINTS)\n",
    "\n",
    "## интесивность\n",
    "N = np.random.randint(200, 210, size=N_POINTS)\n",
    "\n",
    "df_edge_ring = create_rings(XC, YC, r, PHI, N, pattern_type='Edge-Ring')\n",
    "df_edge_ring.info()"
   ]
  },
  {
   "cell_type": "markdown",
   "metadata": {},
   "source": [
    "## Edge-Loc "
   ]
  },
  {
   "cell_type": "code",
   "execution_count": null,
   "metadata": {},
   "outputs": [],
   "source": [
    "%%time\n",
    "\n",
    "N_POINTS = 500\n",
    "\n",
    "## 1 quadrant\n",
    "PHI1_1 = np.random.uniform(0, 30, size=N_POINTS) * np.pi/180\n",
    "PHI2_1 = np.random.uniform(60, 120, size=N_POINTS) * np.pi/180\n",
    "\n",
    "PHI = np.vstack((PHI1_4, PHI2_4))\n",
    "PHI = np.array([[PHI[0,i], PHI[1,i]] for i in range(PHI.shape[1])])\n",
    "\n",
    "r1 = np.random.randint(37, 42, size=N_POINTS)\n",
    "r2 = np.random.randint(45, 46, size=N_POINTS)\n",
    "r = np.vstack((r1, r2))\n",
    "r = np.array([[r[0,i], r[1,i]] for i in range(r.shape[1])])\n",
    "\n",
    "XC = np.random.randint(44, 45 , size=N_POINTS)\n",
    "YC = np.random.randint(44, 45, size=N_POINTS)\n",
    "\n",
    "## интесивность\n",
    "N = np.random.randint(200, 210, size=N_POINTS)\n",
    "\n",
    "df_edge_loc1 = create_rings(XC, YC, r, PHI, N, pattern_type='Edge-Loc')\n",
    "df_edge_loc1.info()"
   ]
  },
  {
   "cell_type": "code",
   "execution_count": null,
   "metadata": {},
   "outputs": [],
   "source": [
    "%%time\n",
    "\n",
    "N_POINTS = 500\n",
    "\n",
    "## 2 quandrant\n",
    "PHI1_2 = np.random.uniform(90, 120, size=N_POINTS) * np.pi/180\n",
    "PHI2_2 = np.random.uniform(150, 210, size=N_POINTS) * np.pi/180\n",
    "\n",
    "PHI = np.vstack((PHI1_4, PHI2_4))\n",
    "PHI = np.array([[PHI[0,i], PHI[1,i]] for i in range(PHI.shape[1])])\n",
    "\n",
    "r1 = np.random.randint(37, 42, size=N_POINTS)\n",
    "r2 = np.random.randint(45, 46, size=N_POINTS)\n",
    "r = np.vstack((r1, r2))\n",
    "r = np.array([[r[0,i], r[1,i]] for i in range(r.shape[1])])\n",
    "\n",
    "XC = np.random.randint(44, 45 , size=N_POINTS)\n",
    "YC = np.random.randint(44, 45, size=N_POINTS)\n",
    "\n",
    "## интесивность\n",
    "N = np.random.randint(200, 210, size=N_POINTS)\n",
    "\n",
    "df_edge_loc2 = create_rings(XC, YC, r, PHI, N, pattern_type='Edge-Loc')\n",
    "df_edge_loc2.info()"
   ]
  },
  {
   "cell_type": "code",
   "execution_count": null,
   "metadata": {},
   "outputs": [],
   "source": [
    "%%time\n",
    "\n",
    "N_POINTS = 500\n",
    "\n",
    "## 3 quandrant\n",
    "PHI1_3 = np.random.uniform(170, 180, size=N_POINTS) * np.pi/180\n",
    "PHI2_3 = np.random.uniform(240, 300, size=N_POINTS) * np.pi/180\n",
    "\n",
    "PHI = np.vstack((PHI1_4, PHI2_4))\n",
    "PHI = np.array([[PHI[0,i], PHI[1,i]] for i in range(PHI.shape[1])])\n",
    "\n",
    "r1 = np.random.randint(37, 42, size=N_POINTS)\n",
    "r2 = np.random.randint(45, 46, size=N_POINTS)\n",
    "r = np.vstack((r1, r2))\n",
    "r = np.array([[r[0,i], r[1,i]] for i in range(r.shape[1])])\n",
    "\n",
    "XC = np.random.randint(44, 45 , size=N_POINTS)\n",
    "YC = np.random.randint(44, 45, size=N_POINTS)\n",
    "\n",
    "## интесивность\n",
    "N = np.random.randint(200, 210, size=N_POINTS)\n",
    "\n",
    "df_edge_loc3 = create_rings(XC, YC, r, PHI, N, pattern_type='Edge-Loc')\n",
    "df_edge_loc3.info()"
   ]
  },
  {
   "cell_type": "code",
   "execution_count": null,
   "metadata": {},
   "outputs": [],
   "source": [
    "%%time\n",
    "\n",
    "N_POINTS = 500\n",
    "\n",
    "## 4 quandrant\n",
    "PHI1_4 = np.random.uniform(250, 270, size=N_POINTS) * np.pi/180\n",
    "PHI2_4 = np.random.uniform(280, 390, size=N_POINTS) * np.pi/180\n",
    "\n",
    "PHI = np.vstack((PHI1_4, PHI2_4))\n",
    "PHI = np.array([[PHI[0,i], PHI[1,i]] for i in range(PHI.shape[1])])\n",
    "\n",
    "r1 = np.random.randint(37, 42, size=N_POINTS)\n",
    "r2 = np.random.randint(45, 46, size=N_POINTS)\n",
    "r = np.vstack((r1, r2))\n",
    "r = np.array([[r[0,i], r[1,i]] for i in range(r.shape[1])])\n",
    "\n",
    "XC = np.random.randint(44, 45 , size=N_POINTS)\n",
    "YC = np.random.randint(44, 45, size=N_POINTS)\n",
    "\n",
    "## интесивность\n",
    "N = np.random.randint(200, 210, size=N_POINTS)\n",
    "\n",
    "df_edge_loc4 = create_rings(XC, YC, r, PHI, N, pattern_type='Edge-Loc')\n",
    "df_edge_loc4.info()"
   ]
  },
  {
   "cell_type": "code",
   "execution_count": null,
   "metadata": {},
   "outputs": [],
   "source": [
    "df_edge_loc = pd.concat([df_edge_loc1, df_edge_loc2,\n",
    "                        df_edge_loc3, df_edge_loc4], sort=False)"
   ]
  },
  {
   "cell_type": "markdown",
   "metadata": {},
   "source": [
    "## Near-full"
   ]
  },
  {
   "cell_type": "code",
   "execution_count": null,
   "metadata": {},
   "outputs": [],
   "source": [
    "def create_near_full(N, pattern_type, lam_poisson=1.2):\n",
    "    df = [None] * N\n",
    "    for n in range(N):\n",
    "        ## создадим тестовый полигон\n",
    "        test = cv2.resize(wafer_map.waferMap, dsize=(92,92), interpolation=cv2.INTER_NEAREST) \n",
    "        ## 2 - паттерн\n",
    "        ## 1 - фон\n",
    "        ## 0 - область, где нет ничего\n",
    "        test[test == 2] = 1\n",
    "        COLOR_SCALE = 2\n",
    "\n",
    "        ## внесем шум\n",
    "        noise_img = test.copy()\n",
    "        mask = np.random.randint(0, 2, size=noise_img.shape).astype(np.bool)\n",
    "        mask[noise_img == 0] = False\n",
    "        r = np.random.poisson(lam=lam_poisson, size=noise_img.shape)\n",
    "        # нормировка на шумы\n",
    "        # r = np.around(r//np.max(r))\n",
    "        r[r==0] = 1\n",
    "        r[r==1] = 2\n",
    "        r[r>2] = 1\n",
    "        noise_img[mask] = r[mask]\n",
    "        \n",
    "\n",
    "        ## сверткой расширим\n",
    "        kernel = np.ones((3,3), np.uint8)\n",
    "        kernel = np.array([[0, 1, 0], [1, 1, 1], [0, 1, 0]], dtype=np.uint8)\n",
    "        noise_img = cv2.morphologyEx(noise_img, cv2.MORPH_CLOSE, kernel)\n",
    "        noise_img = cv2.erode(noise_img,kernel,iterations = 1)\n",
    "\n",
    "        df[n] = [noise_img, pattern_type]\n",
    "        \n",
    "    return pd.DataFrame(df, columns=['waferMap', 'failureType'])"
   ]
  },
  {
   "cell_type": "code",
   "execution_count": null,
   "metadata": {},
   "outputs": [],
   "source": [
    "df_near_full = create_near_full(2000, pattern_type='Near-full', lam_poisson=0.2)\n",
    "df_near_full.info()"
   ]
  },
  {
   "cell_type": "markdown",
   "metadata": {},
   "source": [
    "## Random"
   ]
  },
  {
   "cell_type": "code",
   "execution_count": null,
   "metadata": {},
   "outputs": [],
   "source": [
    "def create_random(N, pattern_type, lam_poisson=1.2):\n",
    "    df = [None] * N\n",
    "    for n in range(N):\n",
    "        ## создадим тестовый полигон\n",
    "        test = cv2.resize(wafer_map.waferMap, dsize=(92,92), interpolation=cv2.INTER_NEAREST) \n",
    "        ## 2 - паттерн\n",
    "        ## 1 - фон\n",
    "        ## 0 - область, где нет ничего\n",
    "        test[test == 2] = 1\n",
    "        COLOR_SCALE = 2\n",
    "\n",
    "        ## внесем шум\n",
    "        noise_img = test.copy()\n",
    "        mask = np.random.randint(0, 2, size=noise_img.shape).astype(np.bool)\n",
    "        mask[noise_img == 0] = False\n",
    "        r = np.random.poisson(lam=lam_poisson, size=noise_img.shape)\n",
    "        # нормировка на шумы\n",
    "        # r = np.around(r//np.max(r))\n",
    "        r[r==0] = 1\n",
    "        r[r>2] = 2\n",
    "        noise_img[mask] = r[mask]\n",
    "        \n",
    "\n",
    "        ## сверткой расширим\n",
    "        kernel = np.ones((3,3), np.uint8)\n",
    "        kernel = np.array([[0, 1, 0], [1, 1, 1], [0, 1, 0]], dtype=np.uint8)\n",
    "        noise_img = cv2.morphologyEx(noise_img, cv2.MORPH_CLOSE, kernel)\n",
    "        noise_img = cv2.erode(noise_img,kernel,iterations = 1)\n",
    "\n",
    "        df[n] = [noise_img, pattern_type]\n",
    "        \n",
    "    return pd.DataFrame(df, columns=['waferMap', 'failureType'])"
   ]
  },
  {
   "cell_type": "code",
   "execution_count": null,
   "metadata": {},
   "outputs": [],
   "source": [
    "df_random = create_random(2000, pattern_type='Random', lam_poisson=0.8)\n",
    "df_random.info()"
   ]
  },
  {
   "cell_type": "code",
   "execution_count": null,
   "metadata": {},
   "outputs": [],
   "source": [
    "df = pd.concat([df_center, df_donut,\n",
    "               df_edge_loc, df_edge_ring,\n",
    "               df_loc, df_random, \n",
    "                df_scratch, df_near_full,\n",
    "               df_scratch_curved], sort=False)\n",
    "\n",
    "mapping_type={'Center':0,'Donut':1,'Edge-Loc':2,\n",
    "              'Edge-Ring':3,'Loc':4,'Random':5,\n",
    "              'Scratch':6,'Near-full':7,'Curved-Scratch':8}\n",
    "\n",
    "df['failureNum'] = df.failureType\n",
    "df = df.replace({'failureNum':mapping_type})"
   ]
  },
  {
   "cell_type": "code",
   "execution_count": null,
   "metadata": {},
   "outputs": [],
   "source": [
    "df.info()"
   ]
  },
  {
   "cell_type": "code",
   "execution_count": null,
   "metadata": {},
   "outputs": [],
   "source": [
    "df.to_pickle('output/syntesis_df')\n",
    "\n",
    "n = 9556\n",
    "plt.imshow(df.waferMap.values[n],cmap='inferno')\n",
    "print(df.failureType.values[n])\n",
    "print(df.failureNum.values[n])"
   ]
  },
  {
   "cell_type": "code",
   "execution_count": 315,
   "metadata": {},
   "outputs": [],
   "source": [
    "df_test = pd.read_pickle('output/syntesis_df')"
   ]
  },
  {
   "cell_type": "code",
   "execution_count": 277,
   "metadata": {},
   "outputs": [
    {
     "name": "stdout",
     "output_type": "stream",
     "text": [
      "Edge-Ring\n"
     ]
    },
    {
     "data": {
      "image/png": "[encoded data removed]",
      "text/plain": [
       "<Figure size 432x288 with 1 Axes>"
      ]
     },
     "metadata": {
      "needs_background": "light"
     },
     "output_type": "display_data"
    }
   ],
   "source": [
    "n = 4531\n",
    "plt.imshow(df_test.waferMap.values[n],cmap='inferno')\n",
    "print(df_test.failureType.values[n])"
   ]
  },
  {
   "cell_type": "code",
   "execution_count": null,
   "metadata": {},
   "outputs": [],
   "source": []
  },
  {
   "cell_type": "code",
   "execution_count": null,
   "metadata": {},
   "outputs": [],
   "source": []
  },
  {
   "cell_type": "code",
   "execution_count": null,
   "metadata": {},
   "outputs": [],
   "source": []
  },
  {
   "cell_type": "code",
   "execution_count": null,
   "metadata": {},
   "outputs": [],
   "source": []
  },
  {
   "cell_type": "code",
   "execution_count": null,
   "metadata": {},
   "outputs": [],
   "source": []
  },
  {
   "cell_type": "code",
   "execution_count": null,
   "metadata": {},
   "outputs": [],
   "source": []
  }
 ],
 "metadata": {
  "kernelspec": {
   "display_name": "Python 3",
   "language": "python",
   "name": "python3"
  },
  "language_info": {
   "codemirror_mode": {
    "name": "ipython",
    "version": 3
   },
   "file_extension": ".py",
   "mimetype": "text/x-python",
   "name": "python",
   "nbconvert_exporter": "python",
   "pygments_lexer": "ipython3",
   "version": "3.6.7"
  }
 },
 "nbformat": 4,
 "nbformat_minor": 2
}
